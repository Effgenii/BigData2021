{
 "cells": [
  {
   "cell_type": "markdown",
   "id": "3e929253",
   "metadata": {},
   "source": [
    "GeekBrains Базы данных для аналитиков\n",
    "Урок 4. Типовая аналитика маркетинговой активности\n",
    "\n",
    "1. Определяем критерии для каждой буквы R, F, M (т.е. к примеру, R – 3 для клиентов, которые покупали <= 30 дней от последней даты в базе, R – 2 для клиентов, которые покупали > 30 и менее 60 дней от последней даты в базе и т.д.)\n",
    "2. Для каждого пользователя получаем набор из 3 цифр (от 111 до 333, где 333 – самые классные пользователи)\n",
    "3. Вводим группировку, к примеру, 333 и 233 – это Vip, 1XX – это Lost, остальные Regular ( можете ввести боле глубокую сегментацию)\n",
    "4. Для каждой группы из п. 3 находим кол-во пользователей, кот. попали в них и % товарооборота, которое они сделали на эти 2 года.\n",
    "5. Проверяем, что общее кол-во пользователей бьется с суммой кол-во пользователей по группам из п. 3 (если у вас есть логические ошибки в создании групп, у вас не собьются цифры). То же самое делаем и по деньгам.\n",
    "\n",
    "Recency (давность) — давность сделки, чем меньше времени прошло с момента последней активности клиента, тем больше вероятность, что он повторит действие\n",
    "Frequency (частота) — количество сделок, чем больше каких-либо действий совершил клиент, тем больше вероятность того, что он его повторит в будущем\n",
    "Monetary (деньги) — сумма сделок, чем больше денег было потрачено, тем больше вероятность того, что он сделает заказ"
   ]
  },
  {
   "cell_type": "code",
   "execution_count": 1,
   "id": "c4379c1b",
   "metadata": {},
   "outputs": [],
   "source": [
    "import pandas as pd\n",
    "from datetime import datetime\n",
    "\n",
    "from datetime import date"
   ]
  },
  {
   "cell_type": "markdown",
   "id": "c3ea4b81",
   "metadata": {},
   "source": [
    "Загружаем данные из файла и преобразуем стоимость заказа и дату заказа"
   ]
  },
  {
   "cell_type": "code",
   "execution_count": 2,
   "id": "2bfa02e1",
   "metadata": {},
   "outputs": [],
   "source": [
    "df = pd.read_csv('orders_20190822.csv', sep = ';')\n",
    "df['price'] = pd.to_numeric(df['price'].str.replace(',', '.'), downcast=\"integer\")\n",
    "df['o_date'] = pd.to_datetime(df['o_date'])"
   ]
  },
  {
   "cell_type": "markdown",
   "id": "3cde961b",
   "metadata": {},
   "source": [
    "Группируем таблизу заказов по покупателям + для каждой группы считаем количесвто покупок и сумму покупок\n",
    "считаем количество дней, прошедших от текущей даты до последней покупки"
   ]
  },
  {
   "cell_type": "code",
   "execution_count": 3,
   "id": "aa314b89",
   "metadata": {},
   "outputs": [],
   "source": [
    "s1 = df.groupby('user_id')['price'].sum()\n",
    "s2 = df.groupby('user_id')['price'].count()\n",
    "s3 = df.groupby('user_id')['o_date'].max()\n",
    "df1 = pd.merge(s1, s2, how='inner', on ='user_id')\n",
    "df2 = pd.merge(df1, s3, how='inner', on ='user_id')\n",
    "df2['user_id'] = df2.index\n",
    "df2.rename(columns = {'price_x':'sum_price', 'price_y':'purchases', 'o_date':'last_o_date'}, inplace = True)\n",
    "df = df2[['user_id', 'sum_price', 'purchases', 'last_o_date']]\n",
    "df = df.copy()\n",
    "df['curr_days']=df['last_o_date'].apply(lambda x: (datetime.now() - x).days)"
   ]
  },
  {
   "cell_type": "markdown",
   "id": "02332953",
   "metadata": {},
   "source": [
    "анализируем значения выборки для выборов критериев группировки"
   ]
  },
  {
   "cell_type": "code",
   "execution_count": 4,
   "id": "c6c35e89",
   "metadata": {
    "scrolled": true
   },
   "outputs": [
    {
     "data": {
      "text/html": [
       "<div>\n",
       "<style scoped>\n",
       "    .dataframe tbody tr th:only-of-type {\n",
       "        vertical-align: middle;\n",
       "    }\n",
       "\n",
       "    .dataframe tbody tr th {\n",
       "        vertical-align: top;\n",
       "    }\n",
       "\n",
       "    .dataframe thead th {\n",
       "        text-align: right;\n",
       "    }\n",
       "</style>\n",
       "<table border=\"1\" class=\"dataframe\">\n",
       "  <thead>\n",
       "    <tr style=\"text-align: right;\">\n",
       "      <th></th>\n",
       "      <th>user_id</th>\n",
       "      <th>sum_price</th>\n",
       "      <th>purchases</th>\n",
       "      <th>curr_days</th>\n",
       "    </tr>\n",
       "  </thead>\n",
       "  <tbody>\n",
       "    <tr>\n",
       "      <th>count</th>\n",
       "      <td>1.015119e+06</td>\n",
       "      <td>1.015119e+06</td>\n",
       "      <td>1.015119e+06</td>\n",
       "      <td>1.015119e+06</td>\n",
       "    </tr>\n",
       "    <tr>\n",
       "      <th>mean</th>\n",
       "      <td>3.060034e+06</td>\n",
       "      <td>4.475029e+03</td>\n",
       "      <td>1.972975e+00</td>\n",
       "      <td>1.631339e+03</td>\n",
       "    </tr>\n",
       "    <tr>\n",
       "      <th>std</th>\n",
       "      <td>1.601093e+06</td>\n",
       "      <td>2.827953e+04</td>\n",
       "      <td>9.461065e+00</td>\n",
       "      <td>2.067240e+02</td>\n",
       "    </tr>\n",
       "    <tr>\n",
       "      <th>min</th>\n",
       "      <td>0.000000e+00</td>\n",
       "      <td>-1.848000e+02</td>\n",
       "      <td>1.000000e+00</td>\n",
       "      <td>1.357000e+03</td>\n",
       "    </tr>\n",
       "    <tr>\n",
       "      <th>25%</th>\n",
       "      <td>1.707710e+06</td>\n",
       "      <td>9.303000e+02</td>\n",
       "      <td>1.000000e+00</td>\n",
       "      <td>1.438000e+03</td>\n",
       "    </tr>\n",
       "    <tr>\n",
       "      <th>50%</th>\n",
       "      <td>2.993663e+06</td>\n",
       "      <td>1.840300e+03</td>\n",
       "      <td>1.000000e+00</td>\n",
       "      <td>1.602000e+03</td>\n",
       "    </tr>\n",
       "    <tr>\n",
       "      <th>75%</th>\n",
       "      <td>4.425940e+06</td>\n",
       "      <td>3.963050e+03</td>\n",
       "      <td>1.000000e+00</td>\n",
       "      <td>1.779000e+03</td>\n",
       "    </tr>\n",
       "    <tr>\n",
       "      <th>max</th>\n",
       "      <td>5.919156e+06</td>\n",
       "      <td>1.173418e+07</td>\n",
       "      <td>3.183000e+03</td>\n",
       "      <td>2.087000e+03</td>\n",
       "    </tr>\n",
       "  </tbody>\n",
       "</table>\n",
       "</div>"
      ],
      "text/plain": [
       "            user_id     sum_price     purchases     curr_days\n",
       "count  1.015119e+06  1.015119e+06  1.015119e+06  1.015119e+06\n",
       "mean   3.060034e+06  4.475029e+03  1.972975e+00  1.631339e+03\n",
       "std    1.601093e+06  2.827953e+04  9.461065e+00  2.067240e+02\n",
       "min    0.000000e+00 -1.848000e+02  1.000000e+00  1.357000e+03\n",
       "25%    1.707710e+06  9.303000e+02  1.000000e+00  1.438000e+03\n",
       "50%    2.993663e+06  1.840300e+03  1.000000e+00  1.602000e+03\n",
       "75%    4.425940e+06  3.963050e+03  1.000000e+00  1.779000e+03\n",
       "max    5.919156e+06  1.173418e+07  3.183000e+03  2.087000e+03"
      ]
     },
     "execution_count": 4,
     "metadata": {},
     "output_type": "execute_result"
    }
   ],
   "source": [
    "df.describe()"
   ]
  },
  {
   "cell_type": "markdown",
   "id": "d6fb575b",
   "metadata": {},
   "source": [
    "Задаем критерии для группировки "
   ]
  },
  {
   "cell_type": "code",
   "execution_count": 5,
   "id": "f8fabaa8",
   "metadata": {},
   "outputs": [],
   "source": [
    "r1 = df.curr_days.quantile(0.2)\n",
    "r2 = df.curr_days.quantile(0.75)\n",
    "f1 = df.purchases.quantile(0.8)\n",
    "f2 = df.purchases.quantile(0.9)\n",
    "m1 = df.sum_price.quantile(0.35)\n",
    "m2 = df.sum_price.quantile(0.85)"
   ]
  },
  {
   "cell_type": "code",
   "execution_count": 6,
   "id": "7d6bae6d",
   "metadata": {},
   "outputs": [],
   "source": [
    "df['Recency']=df['curr_days'].apply(lambda x: 3 if x < r1 else 2 if x < r2 else 1)"
   ]
  },
  {
   "cell_type": "code",
   "execution_count": 7,
   "id": "b840641b",
   "metadata": {},
   "outputs": [],
   "source": [
    "df['Frequency']=df['purchases'].apply(lambda x: 1 if x < f1 else 2 if x < f1 else 3)"
   ]
  },
  {
   "cell_type": "code",
   "execution_count": 8,
   "id": "fa81394c",
   "metadata": {},
   "outputs": [],
   "source": [
    "df['Monetary']=df['sum_price'].apply(lambda x: 1 if x < m1 else 2 if x < m2 else 3)"
   ]
  },
  {
   "cell_type": "markdown",
   "id": "2a90d147",
   "metadata": {},
   "source": [
    "Группируем пользовтелей:"
   ]
  },
  {
   "cell_type": "code",
   "execution_count": 9,
   "id": "0f0eee3a",
   "metadata": {},
   "outputs": [],
   "source": [
    "df['RFM_sum'] = df.apply(lambda row: row.Recency +  row.Frequency + row.Monetary, axis = 1)"
   ]
  },
  {
   "cell_type": "code",
   "execution_count": 10,
   "id": "7038bdb4",
   "metadata": {},
   "outputs": [
    {
     "data": {
      "text/html": [
       "<div>\n",
       "<style scoped>\n",
       "    .dataframe tbody tr th:only-of-type {\n",
       "        vertical-align: middle;\n",
       "    }\n",
       "\n",
       "    .dataframe tbody tr th {\n",
       "        vertical-align: top;\n",
       "    }\n",
       "\n",
       "    .dataframe thead th {\n",
       "        text-align: right;\n",
       "    }\n",
       "</style>\n",
       "<table border=\"1\" class=\"dataframe\">\n",
       "  <thead>\n",
       "    <tr style=\"text-align: right;\">\n",
       "      <th></th>\n",
       "      <th>user_id</th>\n",
       "      <th>sum_price</th>\n",
       "      <th>purchases</th>\n",
       "      <th>last_o_date</th>\n",
       "      <th>curr_days</th>\n",
       "      <th>Recency</th>\n",
       "      <th>Frequency</th>\n",
       "      <th>Monetary</th>\n",
       "      <th>RFM_sum</th>\n",
       "    </tr>\n",
       "    <tr>\n",
       "      <th>user_id</th>\n",
       "      <th></th>\n",
       "      <th></th>\n",
       "      <th></th>\n",
       "      <th></th>\n",
       "      <th></th>\n",
       "      <th></th>\n",
       "      <th></th>\n",
       "      <th></th>\n",
       "      <th></th>\n",
       "    </tr>\n",
       "  </thead>\n",
       "  <tbody>\n",
       "    <tr>\n",
       "      <th>0</th>\n",
       "      <td>0</td>\n",
       "      <td>494.2</td>\n",
       "      <td>1</td>\n",
       "      <td>2016-08-12</td>\n",
       "      <td>1863</td>\n",
       "      <td>1</td>\n",
       "      <td>1</td>\n",
       "      <td>1</td>\n",
       "      <td>3</td>\n",
       "    </tr>\n",
       "    <tr>\n",
       "      <th>1</th>\n",
       "      <td>1</td>\n",
       "      <td>13844.6</td>\n",
       "      <td>2</td>\n",
       "      <td>2017-01-08</td>\n",
       "      <td>1714</td>\n",
       "      <td>2</td>\n",
       "      <td>3</td>\n",
       "      <td>3</td>\n",
       "      <td>8</td>\n",
       "    </tr>\n",
       "    <tr>\n",
       "      <th>76</th>\n",
       "      <td>76</td>\n",
       "      <td>1863.4</td>\n",
       "      <td>2</td>\n",
       "      <td>2017-09-11</td>\n",
       "      <td>1468</td>\n",
       "      <td>2</td>\n",
       "      <td>3</td>\n",
       "      <td>2</td>\n",
       "      <td>7</td>\n",
       "    </tr>\n",
       "    <tr>\n",
       "      <th>90</th>\n",
       "      <td>90</td>\n",
       "      <td>6561.8</td>\n",
       "      <td>4</td>\n",
       "      <td>2017-12-20</td>\n",
       "      <td>1368</td>\n",
       "      <td>3</td>\n",
       "      <td>3</td>\n",
       "      <td>3</td>\n",
       "      <td>9</td>\n",
       "    </tr>\n",
       "    <tr>\n",
       "      <th>91</th>\n",
       "      <td>91</td>\n",
       "      <td>5413.1</td>\n",
       "      <td>4</td>\n",
       "      <td>2017-11-10</td>\n",
       "      <td>1408</td>\n",
       "      <td>3</td>\n",
       "      <td>3</td>\n",
       "      <td>2</td>\n",
       "      <td>8</td>\n",
       "    </tr>\n",
       "    <tr>\n",
       "      <th>...</th>\n",
       "      <td>...</td>\n",
       "      <td>...</td>\n",
       "      <td>...</td>\n",
       "      <td>...</td>\n",
       "      <td>...</td>\n",
       "      <td>...</td>\n",
       "      <td>...</td>\n",
       "      <td>...</td>\n",
       "      <td>...</td>\n",
       "    </tr>\n",
       "    <tr>\n",
       "      <th>5919114</th>\n",
       "      <td>5919114</td>\n",
       "      <td>1272.6</td>\n",
       "      <td>1</td>\n",
       "      <td>2017-12-31</td>\n",
       "      <td>1357</td>\n",
       "      <td>3</td>\n",
       "      <td>1</td>\n",
       "      <td>2</td>\n",
       "      <td>6</td>\n",
       "    </tr>\n",
       "    <tr>\n",
       "      <th>5919118</th>\n",
       "      <td>5919118</td>\n",
       "      <td>7242.2</td>\n",
       "      <td>1</td>\n",
       "      <td>2017-12-31</td>\n",
       "      <td>1357</td>\n",
       "      <td>3</td>\n",
       "      <td>1</td>\n",
       "      <td>3</td>\n",
       "      <td>7</td>\n",
       "    </tr>\n",
       "    <tr>\n",
       "      <th>5919128</th>\n",
       "      <td>5919128</td>\n",
       "      <td>886.9</td>\n",
       "      <td>1</td>\n",
       "      <td>2017-12-31</td>\n",
       "      <td>1357</td>\n",
       "      <td>3</td>\n",
       "      <td>1</td>\n",
       "      <td>1</td>\n",
       "      <td>5</td>\n",
       "    </tr>\n",
       "    <tr>\n",
       "      <th>5919142</th>\n",
       "      <td>5919142</td>\n",
       "      <td>4934.3</td>\n",
       "      <td>1</td>\n",
       "      <td>2017-12-31</td>\n",
       "      <td>1357</td>\n",
       "      <td>3</td>\n",
       "      <td>1</td>\n",
       "      <td>2</td>\n",
       "      <td>6</td>\n",
       "    </tr>\n",
       "    <tr>\n",
       "      <th>5919156</th>\n",
       "      <td>5919156</td>\n",
       "      <td>5019.7</td>\n",
       "      <td>1</td>\n",
       "      <td>2017-12-31</td>\n",
       "      <td>1357</td>\n",
       "      <td>3</td>\n",
       "      <td>1</td>\n",
       "      <td>2</td>\n",
       "      <td>6</td>\n",
       "    </tr>\n",
       "  </tbody>\n",
       "</table>\n",
       "<p>1015119 rows × 9 columns</p>\n",
       "</div>"
      ],
      "text/plain": [
       "         user_id  sum_price  purchases last_o_date  curr_days  Recency  \\\n",
       "user_id                                                                  \n",
       "0              0      494.2          1  2016-08-12       1863        1   \n",
       "1              1    13844.6          2  2017-01-08       1714        2   \n",
       "76            76     1863.4          2  2017-09-11       1468        2   \n",
       "90            90     6561.8          4  2017-12-20       1368        3   \n",
       "91            91     5413.1          4  2017-11-10       1408        3   \n",
       "...          ...        ...        ...         ...        ...      ...   \n",
       "5919114  5919114     1272.6          1  2017-12-31       1357        3   \n",
       "5919118  5919118     7242.2          1  2017-12-31       1357        3   \n",
       "5919128  5919128      886.9          1  2017-12-31       1357        3   \n",
       "5919142  5919142     4934.3          1  2017-12-31       1357        3   \n",
       "5919156  5919156     5019.7          1  2017-12-31       1357        3   \n",
       "\n",
       "         Frequency  Monetary  RFM_sum  \n",
       "user_id                                \n",
       "0                1         1        3  \n",
       "1                3         3        8  \n",
       "76               3         2        7  \n",
       "90               3         3        9  \n",
       "91               3         2        8  \n",
       "...            ...       ...      ...  \n",
       "5919114          1         2        6  \n",
       "5919118          1         3        7  \n",
       "5919128          1         1        5  \n",
       "5919142          1         2        6  \n",
       "5919156          1         2        6  \n",
       "\n",
       "[1015119 rows x 9 columns]"
      ]
     },
     "execution_count": 10,
     "metadata": {},
     "output_type": "execute_result"
    }
   ],
   "source": [
    "df"
   ]
  },
  {
   "cell_type": "code",
   "execution_count": 11,
   "id": "6b47d43d",
   "metadata": {},
   "outputs": [],
   "source": [
    "# Считаем общую сумму товарооборота за 2 года\n",
    "summ = df['sum_price'].sum().round()"
   ]
  },
  {
   "cell_type": "code",
   "execution_count": 12,
   "id": "33c4e03a",
   "metadata": {},
   "outputs": [
    {
     "name": "stdout",
     "output_type": "stream",
     "text": [
      "группа покупателей: 9 ; количество покупателей: 42241 ; доля от товарооборота: 0.26\n",
      "группа покупателей: 8 ; количество покупателей: 85620 ; доля от товарооборота: 0.244\n",
      "группа покупателей: 7 ; количество покупателей: 84038 ; доля от товарооборота: 0.101\n",
      "группа покупателей: 6 ; количество покупателей: 122414 ; доля от товарооборота: 0.125\n",
      "группа покупателей: 5 ; количество покупателей: 290106 ; доля от товарооборота: 0.167\n",
      "группа покупателей: 4 ; количество покупателей: 288408 ; доля от товарооборота: 0.088\n",
      "группа покупателей: 3 ; количество покупателей: 102292 ; доля от товарооборота: 0.015\n"
     ]
    }
   ],
   "source": [
    "for x in reversed(range(3,10)):\n",
    "    s = df.loc[df['RFM_sum'] == x ]['sum_price'].sum().round()\n",
    "    n = df.loc[df['RFM_sum'] == x ]['sum_price'].count()\n",
    "    print (\"группа покупателей:\", x, \"; количество покупателей:\", n, \"; доля от товарооборота:\", (s/summ).round(3))"
   ]
  }
 ],
 "metadata": {
  "kernelspec": {
   "display_name": "Python 3",
   "language": "python",
   "name": "python3"
  },
  "language_info": {
   "codemirror_mode": {
    "name": "ipython",
    "version": 3
   },
   "file_extension": ".py",
   "mimetype": "text/x-python",
   "name": "python",
   "nbconvert_exporter": "python",
   "pygments_lexer": "ipython3",
   "version": "3.9.1"
  }
 },
 "nbformat": 4,
 "nbformat_minor": 5
}
