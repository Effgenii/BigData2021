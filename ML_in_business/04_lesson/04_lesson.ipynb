{
 "cells": [
  {
   "cell_type": "markdown",
   "id": "9ece476d",
   "metadata": {},
   "source": [
    "Домашнее задание\n",
    "1. скачать набор данных маркетинговых кампаний отсюда https://www.kaggle.com/davinwijaya/customer-retention\n",
    "2. там поле conversion - это целевая переменная, а offer - коммуникация. Переименовать поля (conversion -> target, offer -> treatment) и привести поле treatment к бинарному виду (1 или 0, т.е было какое-то предложение или нет) - значение No Offer означает отсутствие коммуникации, а все остальные - наличие.\n",
    "3. сделать разбиение набора данных не тренировочную и тестовую выборки\n",
    "4. сделать feature engineering на ваше усмотрение (допускается свобода выбора методов)\n",
    "5. провести uplift-моделирование 3 способами: одна модель с признаком коммуникации (S learner), модель с трансформацией таргета (трансформация классов п. 2. 1) и вариант с двумя независимыми моделями\n",
    "6. в конце вывести единую таблицу сравнения метрик uplift@10%, uplift@20% этих 3 моделей\n",
    "7. построить модель UpliftTreeClassifier и попытаться описать словами полученное дерево"
   ]
  },
  {
   "cell_type": "code",
   "execution_count": 1,
   "id": "6f07d007",
   "metadata": {},
   "outputs": [],
   "source": [
    "# !pip install scikit-uplift xgboost==1.0.2 category_encoders==2.1.0 -U"
   ]
  },
  {
   "cell_type": "code",
   "execution_count": 2,
   "id": "358bccbd",
   "metadata": {},
   "outputs": [],
   "source": [
    "import pandas as pd\n",
    "import numpy as np\n",
    "import matplotlib.pyplot as plt\n"
   ]
  },
  {
   "cell_type": "code",
   "execution_count": 3,
   "id": "cbfd790c",
   "metadata": {},
   "outputs": [],
   "source": [
    "from sklift.metrics import qini_auc_score\n",
    "from sklift.metrics import uplift_by_percentile\n",
    "from sklift.metrics import weighted_average_uplift\n",
    "from sklift.metrics import uplift_at_k\n",
    "from sklift.models import TwoModels\n",
    "from sklift.models import SoloModel\n",
    "from sklift.models import ClassTransformation\n",
    "from sklift.viz import plot_uplift_by_percentile\n",
    "from sklift.viz import plot_uplift_curve\n",
    "from sklift.viz import plot_qini_curve\n",
    "from sklift.viz import plot_uplift_preds"
   ]
  },
  {
   "cell_type": "code",
   "execution_count": 4,
   "id": "d9986bfd",
   "metadata": {},
   "outputs": [],
   "source": [
    "from sklearn.base import BaseEstimator, TransformerMixin"
   ]
  },
  {
   "cell_type": "code",
   "execution_count": 5,
   "id": "0b8619e2",
   "metadata": {},
   "outputs": [],
   "source": [
    "from sklearn.pipeline import Pipeline"
   ]
  },
  {
   "cell_type": "code",
   "execution_count": 6,
   "id": "74bcc6d9",
   "metadata": {},
   "outputs": [],
   "source": [
    "# !pip install catboost"
   ]
  },
  {
   "cell_type": "code",
   "execution_count": 7,
   "id": "8e6605f7",
   "metadata": {},
   "outputs": [],
   "source": [
    "from catboost import CatBoostClassifier"
   ]
  },
  {
   "cell_type": "code",
   "execution_count": 8,
   "id": "16169f74",
   "metadata": {},
   "outputs": [],
   "source": [
    "from sklearn.model_selection import train_test_split"
   ]
  },
  {
   "cell_type": "code",
   "execution_count": 9,
   "id": "5d00ca1e",
   "metadata": {},
   "outputs": [],
   "source": [
    "from sklearn.utils.validation import check_consistent_length"
   ]
  },
  {
   "cell_type": "code",
   "execution_count": 10,
   "id": "c07b6ffe",
   "metadata": {},
   "outputs": [],
   "source": [
    "# замена для родной функции из skuplift\n",
    "def plot_uplift_preds_(trmnt_preds, ctrl_preds, log=False, bins=100):\n",
    "    \"\"\"Plot histograms of treatment, control and uplift predictions.\n",
    "\n",
    "    Args:\n",
    "        trmnt_preds (1d array-like): Predictions for all observations if they are treatment.\n",
    "        ctrl_preds (1d array-like): Predictions for all observations if they are control.\n",
    "        log (bool): Logarithm of source samples. Default is False.\n",
    "        bins (integer or sequence): Number of histogram bins to be used. Default is 100.\n",
    "            If an integer is given, bins + 1 bin edges are calculated and returned.\n",
    "            If bins is a sequence, gives bin edges, including left edge of first bin and right edge of last bin.\n",
    "            In this case, bins is returned unmodified. Default is 100.\n",
    "\n",
    "    Returns:\n",
    "        Object that stores computed values.\n",
    "    \"\"\"\n",
    "\n",
    "    # TODO: Add k as parameter: vertical line on plots\n",
    "    check_consistent_length(trmnt_preds, ctrl_preds)\n",
    "  \n",
    "    if not isinstance(bins, int) or bins <= 0:\n",
    "        raise ValueError(\n",
    "            f'Bins should be positive integer. Invalid value for bins: {bins}')\n",
    "\n",
    "    if log:\n",
    "        trmnt_preds = np.log(trmnt_preds + 1)\n",
    "        ctrl_preds = np.log(ctrl_preds + 1)\n",
    "\n",
    "    fig, axes = plt.subplots(ncols=3, nrows=1, figsize=(20, 7))\n",
    "    axes[0].hist(\n",
    "        trmnt_preds, bins=bins, alpha=0.3, color='b', label='Treated', histtype='stepfilled')\n",
    "    axes[0].set_ylabel('Probability hist')\n",
    "    axes[0].legend()\n",
    "    axes[0].set_title('Treatment predictions')\n",
    "\n",
    "    axes[1].hist(\n",
    "        ctrl_preds, bins=bins, alpha=0.5, color='y', label='Not treated', histtype='stepfilled')\n",
    "    axes[1].legend()\n",
    "    axes[1].set_title('Control predictions')\n",
    "\n",
    "    axes[2].hist(\n",
    "        trmnt_preds - ctrl_preds, bins=bins, alpha=0.5, color='green', label='Uplift', histtype='stepfilled')\n",
    "    axes[2].legend()\n",
    "    axes[2].set_title('Uplift predictions')\n",
    "\n",
    "    return axes"
   ]
  },
  {
   "cell_type": "code",
   "execution_count": 11,
   "id": "a4e920ce",
   "metadata": {},
   "outputs": [],
   "source": [
    "df = pd.read_csv('data.csv')"
   ]
  },
  {
   "cell_type": "code",
   "execution_count": 12,
   "id": "5c94e7be",
   "metadata": {},
   "outputs": [
    {
     "data": {
      "text/html": [
       "<div>\n",
       "<style scoped>\n",
       "    .dataframe tbody tr th:only-of-type {\n",
       "        vertical-align: middle;\n",
       "    }\n",
       "\n",
       "    .dataframe tbody tr th {\n",
       "        vertical-align: top;\n",
       "    }\n",
       "\n",
       "    .dataframe thead th {\n",
       "        text-align: right;\n",
       "    }\n",
       "</style>\n",
       "<table border=\"1\" class=\"dataframe\">\n",
       "  <thead>\n",
       "    <tr style=\"text-align: right;\">\n",
       "      <th></th>\n",
       "      <th>recency</th>\n",
       "      <th>history</th>\n",
       "      <th>used_discount</th>\n",
       "      <th>used_bogo</th>\n",
       "      <th>zip_code</th>\n",
       "      <th>is_referral</th>\n",
       "      <th>channel</th>\n",
       "      <th>offer</th>\n",
       "      <th>conversion</th>\n",
       "    </tr>\n",
       "  </thead>\n",
       "  <tbody>\n",
       "    <tr>\n",
       "      <th>0</th>\n",
       "      <td>10</td>\n",
       "      <td>142.44</td>\n",
       "      <td>1</td>\n",
       "      <td>0</td>\n",
       "      <td>Surburban</td>\n",
       "      <td>0</td>\n",
       "      <td>Phone</td>\n",
       "      <td>Buy One Get One</td>\n",
       "      <td>0</td>\n",
       "    </tr>\n",
       "    <tr>\n",
       "      <th>1</th>\n",
       "      <td>6</td>\n",
       "      <td>329.08</td>\n",
       "      <td>1</td>\n",
       "      <td>1</td>\n",
       "      <td>Rural</td>\n",
       "      <td>1</td>\n",
       "      <td>Web</td>\n",
       "      <td>No Offer</td>\n",
       "      <td>0</td>\n",
       "    </tr>\n",
       "    <tr>\n",
       "      <th>2</th>\n",
       "      <td>7</td>\n",
       "      <td>180.65</td>\n",
       "      <td>0</td>\n",
       "      <td>1</td>\n",
       "      <td>Surburban</td>\n",
       "      <td>1</td>\n",
       "      <td>Web</td>\n",
       "      <td>Buy One Get One</td>\n",
       "      <td>0</td>\n",
       "    </tr>\n",
       "    <tr>\n",
       "      <th>3</th>\n",
       "      <td>9</td>\n",
       "      <td>675.83</td>\n",
       "      <td>1</td>\n",
       "      <td>0</td>\n",
       "      <td>Rural</td>\n",
       "      <td>1</td>\n",
       "      <td>Web</td>\n",
       "      <td>Discount</td>\n",
       "      <td>0</td>\n",
       "    </tr>\n",
       "    <tr>\n",
       "      <th>4</th>\n",
       "      <td>2</td>\n",
       "      <td>45.34</td>\n",
       "      <td>1</td>\n",
       "      <td>0</td>\n",
       "      <td>Urban</td>\n",
       "      <td>0</td>\n",
       "      <td>Web</td>\n",
       "      <td>Buy One Get One</td>\n",
       "      <td>0</td>\n",
       "    </tr>\n",
       "  </tbody>\n",
       "</table>\n",
       "</div>"
      ],
      "text/plain": [
       "   recency  history  used_discount  used_bogo   zip_code  is_referral channel  \\\n",
       "0       10   142.44              1          0  Surburban            0   Phone   \n",
       "1        6   329.08              1          1      Rural            1     Web   \n",
       "2        7   180.65              0          1  Surburban            1     Web   \n",
       "3        9   675.83              1          0      Rural            1     Web   \n",
       "4        2    45.34              1          0      Urban            0     Web   \n",
       "\n",
       "             offer  conversion  \n",
       "0  Buy One Get One           0  \n",
       "1         No Offer           0  \n",
       "2  Buy One Get One           0  \n",
       "3         Discount           0  \n",
       "4  Buy One Get One           0  "
      ]
     },
     "execution_count": 12,
     "metadata": {},
     "output_type": "execute_result"
    }
   ],
   "source": [
    "df.head()"
   ]
  },
  {
   "cell_type": "code",
   "execution_count": 13,
   "id": "a74e841c",
   "metadata": {},
   "outputs": [
    {
     "data": {
      "text/plain": [
       "array(['Buy One Get One', 'No Offer', 'Discount'], dtype=object)"
      ]
     },
     "execution_count": 13,
     "metadata": {},
     "output_type": "execute_result"
    }
   ],
   "source": [
    "# переименовываем поля\n",
    "df = df.rename(columns={'conversion':'target', 'offer':'treatment'})\n",
    "df['treatment'].unique()"
   ]
  },
  {
   "cell_type": "code",
   "execution_count": 14,
   "id": "59bf612d",
   "metadata": {},
   "outputs": [
    {
     "name": "stderr",
     "output_type": "stream",
     "text": [
      "C:\\Python\\lib\\site-packages\\pandas\\core\\indexing.py:1732: SettingWithCopyWarning: \n",
      "A value is trying to be set on a copy of a slice from a DataFrame\n",
      "\n",
      "See the caveats in the documentation: https://pandas.pydata.org/pandas-docs/stable/user_guide/indexing.html#returning-a-view-versus-a-copy\n",
      "  self._setitem_single_block(indexer, value, name)\n"
     ]
    }
   ],
   "source": [
    "#Производим замену полей на числовые признаки и преобразуем тип числовых признаков в int\n",
    "df['treatment'].loc[df['treatment'] != 'No Offer'] = 1\n",
    "df['treatment'].loc[df['treatment'] == 'No Offer'] = 0"
   ]
  },
  {
   "cell_type": "code",
   "execution_count": 15,
   "id": "8fa532e0",
   "metadata": {},
   "outputs": [
    {
     "data": {
      "text/plain": [
       "array([1, 0])"
      ]
     },
     "execution_count": 15,
     "metadata": {},
     "output_type": "execute_result"
    }
   ],
   "source": [
    "df['treatment'] = df['treatment'].astype('int')\n",
    "df['treatment'].unique()"
   ]
  },
  {
   "cell_type": "code",
   "execution_count": 16,
   "id": "5378d00c",
   "metadata": {},
   "outputs": [],
   "source": [
    "# перед тем как разбить датасет на тренировочную и тестовую выборки сделаем feature engineering\n",
    "y = df[['target']]\n",
    "treatment = df[['treatment']]\n",
    "X = df.drop(['treatment', 'target'], axis = 1)"
   ]
  },
  {
   "cell_type": "code",
   "execution_count": 17,
   "id": "144c8da9",
   "metadata": {},
   "outputs": [
    {
     "data": {
      "text/html": [
       "<div>\n",
       "<style scoped>\n",
       "    .dataframe tbody tr th:only-of-type {\n",
       "        vertical-align: middle;\n",
       "    }\n",
       "\n",
       "    .dataframe tbody tr th {\n",
       "        vertical-align: top;\n",
       "    }\n",
       "\n",
       "    .dataframe thead th {\n",
       "        text-align: right;\n",
       "    }\n",
       "</style>\n",
       "<table border=\"1\" class=\"dataframe\">\n",
       "  <thead>\n",
       "    <tr style=\"text-align: right;\">\n",
       "      <th></th>\n",
       "      <th>target</th>\n",
       "    </tr>\n",
       "  </thead>\n",
       "  <tbody>\n",
       "    <tr>\n",
       "      <th>0</th>\n",
       "      <td>0</td>\n",
       "    </tr>\n",
       "    <tr>\n",
       "      <th>1</th>\n",
       "      <td>0</td>\n",
       "    </tr>\n",
       "    <tr>\n",
       "      <th>2</th>\n",
       "      <td>0</td>\n",
       "    </tr>\n",
       "  </tbody>\n",
       "</table>\n",
       "</div>"
      ],
      "text/plain": [
       "   target\n",
       "0       0\n",
       "1       0\n",
       "2       0"
      ]
     },
     "execution_count": 17,
     "metadata": {},
     "output_type": "execute_result"
    }
   ],
   "source": [
    "y.head(3)"
   ]
  },
  {
   "cell_type": "code",
   "execution_count": 18,
   "id": "31ed307b",
   "metadata": {},
   "outputs": [
    {
     "data": {
      "text/html": [
       "<div>\n",
       "<style scoped>\n",
       "    .dataframe tbody tr th:only-of-type {\n",
       "        vertical-align: middle;\n",
       "    }\n",
       "\n",
       "    .dataframe tbody tr th {\n",
       "        vertical-align: top;\n",
       "    }\n",
       "\n",
       "    .dataframe thead th {\n",
       "        text-align: right;\n",
       "    }\n",
       "</style>\n",
       "<table border=\"1\" class=\"dataframe\">\n",
       "  <thead>\n",
       "    <tr style=\"text-align: right;\">\n",
       "      <th></th>\n",
       "      <th>treatment</th>\n",
       "    </tr>\n",
       "  </thead>\n",
       "  <tbody>\n",
       "    <tr>\n",
       "      <th>0</th>\n",
       "      <td>1</td>\n",
       "    </tr>\n",
       "    <tr>\n",
       "      <th>1</th>\n",
       "      <td>0</td>\n",
       "    </tr>\n",
       "    <tr>\n",
       "      <th>2</th>\n",
       "      <td>1</td>\n",
       "    </tr>\n",
       "  </tbody>\n",
       "</table>\n",
       "</div>"
      ],
      "text/plain": [
       "   treatment\n",
       "0          1\n",
       "1          0\n",
       "2          1"
      ]
     },
     "execution_count": 18,
     "metadata": {},
     "output_type": "execute_result"
    }
   ],
   "source": [
    "treatment.head(3)"
   ]
  },
  {
   "cell_type": "code",
   "execution_count": 19,
   "id": "3eed054f",
   "metadata": {},
   "outputs": [
    {
     "data": {
      "text/html": [
       "<div>\n",
       "<style scoped>\n",
       "    .dataframe tbody tr th:only-of-type {\n",
       "        vertical-align: middle;\n",
       "    }\n",
       "\n",
       "    .dataframe tbody tr th {\n",
       "        vertical-align: top;\n",
       "    }\n",
       "\n",
       "    .dataframe thead th {\n",
       "        text-align: right;\n",
       "    }\n",
       "</style>\n",
       "<table border=\"1\" class=\"dataframe\">\n",
       "  <thead>\n",
       "    <tr style=\"text-align: right;\">\n",
       "      <th></th>\n",
       "      <th>recency</th>\n",
       "      <th>history</th>\n",
       "      <th>used_discount</th>\n",
       "      <th>used_bogo</th>\n",
       "      <th>zip_code</th>\n",
       "      <th>is_referral</th>\n",
       "      <th>channel</th>\n",
       "    </tr>\n",
       "  </thead>\n",
       "  <tbody>\n",
       "    <tr>\n",
       "      <th>0</th>\n",
       "      <td>10</td>\n",
       "      <td>142.44</td>\n",
       "      <td>1</td>\n",
       "      <td>0</td>\n",
       "      <td>Surburban</td>\n",
       "      <td>0</td>\n",
       "      <td>Phone</td>\n",
       "    </tr>\n",
       "    <tr>\n",
       "      <th>1</th>\n",
       "      <td>6</td>\n",
       "      <td>329.08</td>\n",
       "      <td>1</td>\n",
       "      <td>1</td>\n",
       "      <td>Rural</td>\n",
       "      <td>1</td>\n",
       "      <td>Web</td>\n",
       "    </tr>\n",
       "    <tr>\n",
       "      <th>2</th>\n",
       "      <td>7</td>\n",
       "      <td>180.65</td>\n",
       "      <td>0</td>\n",
       "      <td>1</td>\n",
       "      <td>Surburban</td>\n",
       "      <td>1</td>\n",
       "      <td>Web</td>\n",
       "    </tr>\n",
       "  </tbody>\n",
       "</table>\n",
       "</div>"
      ],
      "text/plain": [
       "   recency  history  used_discount  used_bogo   zip_code  is_referral channel\n",
       "0       10   142.44              1          0  Surburban            0   Phone\n",
       "1        6   329.08              1          1      Rural            1     Web\n",
       "2        7   180.65              0          1  Surburban            1     Web"
      ]
     },
     "execution_count": 19,
     "metadata": {},
     "output_type": "execute_result"
    }
   ],
   "source": [
    "X.head(3)"
   ]
  },
  {
   "cell_type": "code",
   "execution_count": 20,
   "id": "67420ced",
   "metadata": {},
   "outputs": [
    {
     "data": {
      "text/plain": [
       "Web             28217\n",
       "Phone           28021\n",
       "Multichannel     7762\n",
       "Name: channel, dtype: int64"
      ]
     },
     "execution_count": 20,
     "metadata": {},
     "output_type": "execute_result"
    }
   ],
   "source": [
    "# заменим is_referral и channel на цифровые признаки для более удобного послеующего взаимодействия.\n",
    "X['channel'].value_counts()"
   ]
  },
  {
   "cell_type": "code",
   "execution_count": 21,
   "id": "a20f9e8e",
   "metadata": {},
   "outputs": [
    {
     "data": {
      "text/plain": [
       "Surburban    28776\n",
       "Urban        25661\n",
       "Rural         9563\n",
       "Name: zip_code, dtype: int64"
      ]
     },
     "execution_count": 21,
     "metadata": {},
     "output_type": "execute_result"
    }
   ],
   "source": [
    "X['zip_code'].value_counts()"
   ]
  },
  {
   "cell_type": "code",
   "execution_count": 22,
   "id": "2607d2e4",
   "metadata": {},
   "outputs": [
    {
     "name": "stderr",
     "output_type": "stream",
     "text": [
      "C:\\Python\\lib\\site-packages\\pandas\\core\\indexing.py:1732: SettingWithCopyWarning: \n",
      "A value is trying to be set on a copy of a slice from a DataFrame\n",
      "\n",
      "See the caveats in the documentation: https://pandas.pydata.org/pandas-docs/stable/user_guide/indexing.html#returning-a-view-versus-a-copy\n",
      "  self._setitem_single_block(indexer, value, name)\n"
     ]
    }
   ],
   "source": [
    "X['channel'].loc[X['channel'] == 'Web'] = 2\n",
    "X['channel'].loc[X['channel'] == 'Phone'] = 1\n",
    "X['channel'].loc[X['channel'] == 'Multichannel'] = 0\n",
    "X['channel'] = X['channel'].astype('int')"
   ]
  },
  {
   "cell_type": "code",
   "execution_count": 23,
   "id": "7367240a",
   "metadata": {},
   "outputs": [],
   "source": [
    "X['zip_code'].loc[X['zip_code'] == 'Surburban'] = 2\n",
    "X['zip_code'].loc[X['zip_code'] == 'Urban'] = 1\n",
    "X['zip_code'].loc[X['zip_code'] == 'Rural'] = 0\n",
    "X['zip_code'] = X['zip_code'].astype('int')"
   ]
  },
  {
   "cell_type": "code",
   "execution_count": 24,
   "id": "f1afe022",
   "metadata": {},
   "outputs": [
    {
     "data": {
      "text/html": [
       "<div>\n",
       "<style scoped>\n",
       "    .dataframe tbody tr th:only-of-type {\n",
       "        vertical-align: middle;\n",
       "    }\n",
       "\n",
       "    .dataframe tbody tr th {\n",
       "        vertical-align: top;\n",
       "    }\n",
       "\n",
       "    .dataframe thead th {\n",
       "        text-align: right;\n",
       "    }\n",
       "</style>\n",
       "<table border=\"1\" class=\"dataframe\">\n",
       "  <thead>\n",
       "    <tr style=\"text-align: right;\">\n",
       "      <th></th>\n",
       "      <th>recency</th>\n",
       "      <th>history</th>\n",
       "      <th>used_discount</th>\n",
       "      <th>used_bogo</th>\n",
       "      <th>zip_code</th>\n",
       "      <th>is_referral</th>\n",
       "      <th>channel</th>\n",
       "    </tr>\n",
       "  </thead>\n",
       "  <tbody>\n",
       "    <tr>\n",
       "      <th>0</th>\n",
       "      <td>10</td>\n",
       "      <td>142.44</td>\n",
       "      <td>1</td>\n",
       "      <td>0</td>\n",
       "      <td>2</td>\n",
       "      <td>0</td>\n",
       "      <td>1</td>\n",
       "    </tr>\n",
       "    <tr>\n",
       "      <th>1</th>\n",
       "      <td>6</td>\n",
       "      <td>329.08</td>\n",
       "      <td>1</td>\n",
       "      <td>1</td>\n",
       "      <td>0</td>\n",
       "      <td>1</td>\n",
       "      <td>2</td>\n",
       "    </tr>\n",
       "    <tr>\n",
       "      <th>2</th>\n",
       "      <td>7</td>\n",
       "      <td>180.65</td>\n",
       "      <td>0</td>\n",
       "      <td>1</td>\n",
       "      <td>2</td>\n",
       "      <td>1</td>\n",
       "      <td>2</td>\n",
       "    </tr>\n",
       "    <tr>\n",
       "      <th>3</th>\n",
       "      <td>9</td>\n",
       "      <td>675.83</td>\n",
       "      <td>1</td>\n",
       "      <td>0</td>\n",
       "      <td>0</td>\n",
       "      <td>1</td>\n",
       "      <td>2</td>\n",
       "    </tr>\n",
       "    <tr>\n",
       "      <th>4</th>\n",
       "      <td>2</td>\n",
       "      <td>45.34</td>\n",
       "      <td>1</td>\n",
       "      <td>0</td>\n",
       "      <td>1</td>\n",
       "      <td>0</td>\n",
       "      <td>2</td>\n",
       "    </tr>\n",
       "  </tbody>\n",
       "</table>\n",
       "</div>"
      ],
      "text/plain": [
       "   recency  history  used_discount  used_bogo  zip_code  is_referral  channel\n",
       "0       10   142.44              1          0         2            0        1\n",
       "1        6   329.08              1          1         0            1        2\n",
       "2        7   180.65              0          1         2            1        2\n",
       "3        9   675.83              1          0         0            1        2\n",
       "4        2    45.34              1          0         1            0        2"
      ]
     },
     "execution_count": 24,
     "metadata": {},
     "output_type": "execute_result"
    }
   ],
   "source": [
    "X.head(5)"
   ]
  },
  {
   "cell_type": "code",
   "execution_count": 25,
   "id": "51af2ffe",
   "metadata": {},
   "outputs": [],
   "source": [
    "# Создаем список с категориальными переменными\n",
    "cat_features = ['recency', 'used_discount', 'used_bogo', 'zip_code', 'is_referral', 'channel']"
   ]
  },
  {
   "cell_type": "code",
   "execution_count": 26,
   "id": "2d156aa0",
   "metadata": {},
   "outputs": [],
   "source": [
    "# и разбиваем датасет на выбборки\n",
    "X_train, X_test, y_train, y_test, treat_train, treat_test = train_test_split(X, \n",
    "                                                                                   y, \n",
    "                                                                                   treatment, \n",
    "                                                                                   test_size=0.1, \n",
    "                                                                                   random_state=35)"
   ]
  },
  {
   "cell_type": "code",
   "execution_count": 27,
   "id": "c386e434",
   "metadata": {},
   "outputs": [],
   "source": [
    "# словарь для записывания результатов\n",
    "models_results = {\n",
    "    'approach': [],\n",
    "    'uplift@10%': [],\n",
    "    'uplift@20%': [],\n",
    "    'uplift@30%': [],\n",
    "}\n"
   ]
  },
  {
   "cell_type": "code",
   "execution_count": 28,
   "id": "d1c4901e",
   "metadata": {},
   "outputs": [
    {
     "data": {
      "text/plain": [
       "{'approach': [], 'uplift@10%': [], 'uplift@20%': [], 'uplift@30%': []}"
      ]
     },
     "execution_count": 28,
     "metadata": {},
     "output_type": "execute_result"
    }
   ],
   "source": [
    "models_results"
   ]
  },
  {
   "cell_type": "markdown",
   "id": "04e008c2",
   "metadata": {},
   "source": [
    "Проводим uplift-моделирование 3 способами: \n",
    "1. одна модель с признаком коммуникации (S learner), \n",
    "2. модель с трансформацией таргета (трансформация классов п. 2. 1)\n",
    "3. вариант с двумя независимыми моделями"
   ]
  },
  {
   "cell_type": "markdown",
   "id": "e244148c",
   "metadata": {},
   "source": [
    "####  Одна модель с признаком коммуникации"
   ]
  },
  {
   "cell_type": "code",
   "execution_count": 29,
   "id": "4e5d1807",
   "metadata": {},
   "outputs": [],
   "source": [
    "# создаем класс\n",
    "sm = SoloModel(\n",
    "    CatBoostClassifier(\n",
    "        iterations=20, \n",
    "        thread_count=2, \n",
    "        random_state=42, \n",
    "        silent=True))"
   ]
  },
  {
   "cell_type": "code",
   "execution_count": 30,
   "id": "aea8d1b8",
   "metadata": {},
   "outputs": [
    {
     "name": "stdout",
     "output_type": "stream",
     "text": [
      "CPU times: total: 1.2 s\n",
      "Wall time: 1.1 s\n"
     ]
    }
   ],
   "source": [
    "%%time\n",
    "# и обучаем\n",
    "sm = sm.fit(\n",
    "    X_train, \n",
    "    y_train, \n",
    "    treat_train, \n",
    "    estimator_fit_params={'cat_features': cat_features})"
   ]
  },
  {
   "cell_type": "code",
   "execution_count": 31,
   "id": "e5e3bd9e",
   "metadata": {},
   "outputs": [],
   "source": [
    "# предсказываем и считаем оценку для k=0.3\n",
    "uplift_sm = sm.predict(X_test)\n",
    "sm_score = uplift_at_k( y_true=y_test, uplift=uplift_sm, treatment=treat_test, strategy='by_group', k=0.3)"
   ]
  },
  {
   "cell_type": "code",
   "execution_count": 32,
   "id": "66579b1b",
   "metadata": {},
   "outputs": [],
   "source": [
    "# записываем результаты в словарь\n",
    "models_results['approach'].append('SoloModel')\n",
    "models_results['uplift@30%'].append(sm_score)"
   ]
  },
  {
   "cell_type": "code",
   "execution_count": 33,
   "id": "b9588709",
   "metadata": {},
   "outputs": [],
   "source": [
    "# считаем оценку для k=0.2 (понимаю что костыли)\n",
    "sm_score = uplift_at_k( y_true=y_test, uplift=uplift_sm, treatment=treat_test, strategy='by_group', k=0.2)\n",
    "# записываем результаты в словарь \n",
    "models_results['uplift@20%'].append(sm_score)"
   ]
  },
  {
   "cell_type": "code",
   "execution_count": 34,
   "id": "c7fd9d1a",
   "metadata": {},
   "outputs": [],
   "source": [
    "# считаем оценку для k=0.1\n",
    "sm_score = uplift_at_k( y_true=y_test, uplift=uplift_sm, treatment=treat_test, strategy='by_group', k=0.1)\n",
    "# записываем результаты в словарь\n",
    "models_results['uplift@10%'].append(sm_score)"
   ]
  },
  {
   "cell_type": "code",
   "execution_count": 35,
   "id": "ce99c986",
   "metadata": {},
   "outputs": [
    {
     "data": {
      "text/plain": [
       "{'approach': ['SoloModel'],\n",
       " 'uplift@10%': [0.11267605633802819],\n",
       " 'uplift@20%': [0.10417251457160312],\n",
       " 'uplift@30%': [0.11386932707355242]}"
      ]
     },
     "execution_count": 35,
     "metadata": {},
     "output_type": "execute_result"
    }
   ],
   "source": [
    "models_results"
   ]
  },
  {
   "cell_type": "code",
   "execution_count": 36,
   "id": "ed2a1bab",
   "metadata": {},
   "outputs": [],
   "source": [
    "# Получим условные вероятности выполнения целевого действия при взаимодействии для каждого объекта\n",
    "sm_trmnt_preds = sm.trmnt_preds_"
   ]
  },
  {
   "cell_type": "code",
   "execution_count": 37,
   "id": "4c07b52b",
   "metadata": {},
   "outputs": [],
   "source": [
    "# И условные вероятности выполнения целевого действия без взаимодействия для каждого объекта\n",
    "sm_ctrl_preds = sm.ctrl_preds_"
   ]
  },
  {
   "cell_type": "code",
   "execution_count": 38,
   "id": "6bc6f743",
   "metadata": {},
   "outputs": [
    {
     "data": {
      "image/png": "[encoded data removed]",
      "text/plain": [
       "<Figure size 1440x504 with 3 Axes>"
      ]
     },
     "metadata": {
      "needs_background": "light"
     },
     "output_type": "display_data"
    }
   ],
   "source": [
    "# Отрисуем распределения вероятностей и их разность (uplift)\n",
    "plot_uplift_preds_(sm_trmnt_preds , sm_ctrl_preds, bins=100);"
   ]
  },
  {
   "cell_type": "code",
   "execution_count": 39,
   "id": "8468efcc",
   "metadata": {},
   "outputs": [
    {
     "name": "stderr",
     "output_type": "stream",
     "text": [
      "C:\\_GeekBrain\\BigData2021\\ML_in_business\\venv\\lib\\site-packages\\sklift\\metrics\\metrics.py:208: RuntimeWarning: divide by zero encountered in double_scalars\n",
      "  return auc_score_actual / auc_score_perfect\n"
     ]
    },
    {
     "data": {
      "image/png": "[encoded data removed]",
      "text/plain": [
       "<Figure size 432x288 with 1 Axes>"
      ]
     },
     "metadata": {
      "needs_background": "light"
     },
     "output_type": "display_data"
    }
   ],
   "source": [
    "# Построим дополнительные графики для оценки uplift\n",
    "# with ideal curve\n",
    "# perfect=True\n",
    "plot_uplift_curve(y_test, uplift_sm, treat_test); # perfect=True"
   ]
  },
  {
   "cell_type": "code",
   "execution_count": 40,
   "id": "d319a59b",
   "metadata": {},
   "outputs": [
    {
     "name": "stderr",
     "output_type": "stream",
     "text": [
      "C:\\Python\\lib\\site-packages\\numpy\\core\\fromnumeric.py:3162: VisibleDeprecationWarning: Creating an ndarray from ragged nested sequences (which is a list-or-tuple of lists-or-tuples-or ndarrays with different lengths or shapes) is deprecated. If you meant to do this, you must specify 'dtype=object' when creating the ndarray.\n",
      "  return asarray(a).ndim\n"
     ]
    },
    {
     "data": {
      "text/html": [
       "<div>\n",
       "<style scoped>\n",
       "    .dataframe tbody tr th:only-of-type {\n",
       "        vertical-align: middle;\n",
       "    }\n",
       "\n",
       "    .dataframe tbody tr th {\n",
       "        vertical-align: top;\n",
       "    }\n",
       "\n",
       "    .dataframe thead th {\n",
       "        text-align: right;\n",
       "    }\n",
       "</style>\n",
       "<table border=\"1\" class=\"dataframe\">\n",
       "  <thead>\n",
       "    <tr style=\"text-align: right;\">\n",
       "      <th></th>\n",
       "      <th>n_treatment</th>\n",
       "      <th>n_control</th>\n",
       "      <th>response_rate_treatment</th>\n",
       "      <th>response_rate_control</th>\n",
       "      <th>uplift</th>\n",
       "      <th>std_treatment</th>\n",
       "      <th>std_control</th>\n",
       "      <th>std_uplift</th>\n",
       "    </tr>\n",
       "    <tr>\n",
       "      <th>percentile</th>\n",
       "      <th></th>\n",
       "      <th></th>\n",
       "      <th></th>\n",
       "      <th></th>\n",
       "      <th></th>\n",
       "      <th></th>\n",
       "      <th></th>\n",
       "      <th></th>\n",
       "    </tr>\n",
       "  </thead>\n",
       "  <tbody>\n",
       "    <tr>\n",
       "      <th>0-10</th>\n",
       "      <td>440</td>\n",
       "      <td>200</td>\n",
       "      <td>0.281818</td>\n",
       "      <td>0.170000</td>\n",
       "      <td>0.111818</td>\n",
       "      <td>0.021447</td>\n",
       "      <td>0.026561</td>\n",
       "      <td>0.034139</td>\n",
       "    </tr>\n",
       "    <tr>\n",
       "      <th>10-20</th>\n",
       "      <td>438</td>\n",
       "      <td>202</td>\n",
       "      <td>0.203196</td>\n",
       "      <td>0.118812</td>\n",
       "      <td>0.084384</td>\n",
       "      <td>0.019226</td>\n",
       "      <td>0.022766</td>\n",
       "      <td>0.029798</td>\n",
       "    </tr>\n",
       "    <tr>\n",
       "      <th>20-30</th>\n",
       "      <td>417</td>\n",
       "      <td>223</td>\n",
       "      <td>0.225420</td>\n",
       "      <td>0.089686</td>\n",
       "      <td>0.135734</td>\n",
       "      <td>0.020463</td>\n",
       "      <td>0.019134</td>\n",
       "      <td>0.028015</td>\n",
       "    </tr>\n",
       "    <tr>\n",
       "      <th>30-40</th>\n",
       "      <td>422</td>\n",
       "      <td>218</td>\n",
       "      <td>0.165877</td>\n",
       "      <td>0.123853</td>\n",
       "      <td>0.042024</td>\n",
       "      <td>0.018107</td>\n",
       "      <td>0.022311</td>\n",
       "      <td>0.028734</td>\n",
       "    </tr>\n",
       "    <tr>\n",
       "      <th>40-50</th>\n",
       "      <td>438</td>\n",
       "      <td>202</td>\n",
       "      <td>0.157534</td>\n",
       "      <td>0.089109</td>\n",
       "      <td>0.068425</td>\n",
       "      <td>0.017407</td>\n",
       "      <td>0.020046</td>\n",
       "      <td>0.026549</td>\n",
       "    </tr>\n",
       "    <tr>\n",
       "      <th>50-60</th>\n",
       "      <td>406</td>\n",
       "      <td>234</td>\n",
       "      <td>0.162562</td>\n",
       "      <td>0.085470</td>\n",
       "      <td>0.077091</td>\n",
       "      <td>0.018311</td>\n",
       "      <td>0.018277</td>\n",
       "      <td>0.025872</td>\n",
       "    </tr>\n",
       "    <tr>\n",
       "      <th>60-70</th>\n",
       "      <td>422</td>\n",
       "      <td>218</td>\n",
       "      <td>0.116114</td>\n",
       "      <td>0.123853</td>\n",
       "      <td>-0.007739</td>\n",
       "      <td>0.015595</td>\n",
       "      <td>0.022311</td>\n",
       "      <td>0.027221</td>\n",
       "    </tr>\n",
       "    <tr>\n",
       "      <th>70-80</th>\n",
       "      <td>437</td>\n",
       "      <td>203</td>\n",
       "      <td>0.109840</td>\n",
       "      <td>0.098522</td>\n",
       "      <td>0.011318</td>\n",
       "      <td>0.014958</td>\n",
       "      <td>0.020917</td>\n",
       "      <td>0.025715</td>\n",
       "    </tr>\n",
       "    <tr>\n",
       "      <th>80-90</th>\n",
       "      <td>427</td>\n",
       "      <td>213</td>\n",
       "      <td>0.126464</td>\n",
       "      <td>0.103286</td>\n",
       "      <td>0.023177</td>\n",
       "      <td>0.016085</td>\n",
       "      <td>0.020853</td>\n",
       "      <td>0.026335</td>\n",
       "    </tr>\n",
       "    <tr>\n",
       "      <th>90-100</th>\n",
       "      <td>422</td>\n",
       "      <td>218</td>\n",
       "      <td>0.073460</td>\n",
       "      <td>0.050459</td>\n",
       "      <td>0.023001</td>\n",
       "      <td>0.012700</td>\n",
       "      <td>0.014825</td>\n",
       "      <td>0.019521</td>\n",
       "    </tr>\n",
       "    <tr>\n",
       "      <th>total</th>\n",
       "      <td>4269</td>\n",
       "      <td>2131</td>\n",
       "      <td>0.162567</td>\n",
       "      <td>0.104646</td>\n",
       "      <td>0.057922</td>\n",
       "      <td>0.174300</td>\n",
       "      <td>0.208000</td>\n",
       "      <td>0.271899</td>\n",
       "    </tr>\n",
       "  </tbody>\n",
       "</table>\n",
       "</div>"
      ],
      "text/plain": [
       "            n_treatment  n_control  response_rate_treatment  \\\n",
       "percentile                                                    \n",
       "0-10                440        200                 0.281818   \n",
       "10-20               438        202                 0.203196   \n",
       "20-30               417        223                 0.225420   \n",
       "30-40               422        218                 0.165877   \n",
       "40-50               438        202                 0.157534   \n",
       "50-60               406        234                 0.162562   \n",
       "60-70               422        218                 0.116114   \n",
       "70-80               437        203                 0.109840   \n",
       "80-90               427        213                 0.126464   \n",
       "90-100              422        218                 0.073460   \n",
       "total              4269       2131                 0.162567   \n",
       "\n",
       "            response_rate_control    uplift  std_treatment  std_control  \\\n",
       "percentile                                                                \n",
       "0-10                     0.170000  0.111818       0.021447     0.026561   \n",
       "10-20                    0.118812  0.084384       0.019226     0.022766   \n",
       "20-30                    0.089686  0.135734       0.020463     0.019134   \n",
       "30-40                    0.123853  0.042024       0.018107     0.022311   \n",
       "40-50                    0.089109  0.068425       0.017407     0.020046   \n",
       "50-60                    0.085470  0.077091       0.018311     0.018277   \n",
       "60-70                    0.123853 -0.007739       0.015595     0.022311   \n",
       "70-80                    0.098522  0.011318       0.014958     0.020917   \n",
       "80-90                    0.103286  0.023177       0.016085     0.020853   \n",
       "90-100                   0.050459  0.023001       0.012700     0.014825   \n",
       "total                    0.104646  0.057922       0.174300     0.208000   \n",
       "\n",
       "            std_uplift  \n",
       "percentile              \n",
       "0-10          0.034139  \n",
       "10-20         0.029798  \n",
       "20-30         0.028015  \n",
       "30-40         0.028734  \n",
       "40-50         0.026549  \n",
       "50-60         0.025872  \n",
       "60-70         0.027221  \n",
       "70-80         0.025715  \n",
       "80-90         0.026335  \n",
       "90-100        0.019521  \n",
       "total         0.271899  "
      ]
     },
     "execution_count": 40,
     "metadata": {},
     "output_type": "execute_result"
    }
   ],
   "source": [
    "# uplift by decile, или  uplift by percentile, или uplift by bin.\n",
    "uplift_by_percentile(y_test, \n",
    "                     uplift_sm, \n",
    "                     treat_test, \n",
    "                     strategy='overall', \n",
    "                     total=True, \n",
    "                     std=True, \n",
    "                     bins=10)"
   ]
  },
  {
   "cell_type": "code",
   "execution_count": 41,
   "id": "c15b95b9",
   "metadata": {},
   "outputs": [
    {
     "name": "stderr",
     "output_type": "stream",
     "text": [
      "C:\\Python\\lib\\site-packages\\numpy\\core\\fromnumeric.py:3162: VisibleDeprecationWarning: Creating an ndarray from ragged nested sequences (which is a list-or-tuple of lists-or-tuples-or ndarrays with different lengths or shapes) is deprecated. If you meant to do this, you must specify 'dtype=object' when creating the ndarray.\n",
      "  return asarray(a).ndim\n"
     ]
    },
    {
     "data": {
      "image/png": "[encoded data removed]",
      "text/plain": [
       "<Figure size 576x432 with 2 Axes>"
      ]
     },
     "metadata": {
      "needs_background": "light"
     },
     "output_type": "display_data"
    }
   ],
   "source": [
    "# график uplift by percentile\n",
    "plot_uplift_by_percentile(y_test, \n",
    "                          uplift_sm, \n",
    "                          treat_test, \n",
    "                          strategy='overall', \n",
    "                          kind='bar');"
   ]
  },
  {
   "cell_type": "code",
   "execution_count": 42,
   "id": "c244842e",
   "metadata": {},
   "outputs": [
    {
     "name": "stdout",
     "output_type": "stream",
     "text": [
      "weighted average uplift on full data: 0.0569\n"
     ]
    }
   ],
   "source": [
    "# с помощью значений в столбцах uplift и n_treatment рассчитаем усредненный uplift на всей выборке, \n",
    "# взвешенный на размер целевой группы — weighted average uplift\n",
    "uplift_full_data = weighted_average_uplift(y_test, \n",
    "                                           uplift_sm, \n",
    "                                           treat_test, \n",
    "                                           bins=10) \n",
    "print(f\"weighted average uplift on full data: {uplift_full_data:.4f}\")"
   ]
  },
  {
   "cell_type": "code",
   "execution_count": 43,
   "id": "84179d64",
   "metadata": {},
   "outputs": [
    {
     "data": {
      "text/html": [
       "<div>\n",
       "<style scoped>\n",
       "    .dataframe tbody tr th:only-of-type {\n",
       "        vertical-align: middle;\n",
       "    }\n",
       "\n",
       "    .dataframe tbody tr th {\n",
       "        vertical-align: top;\n",
       "    }\n",
       "\n",
       "    .dataframe thead th {\n",
       "        text-align: right;\n",
       "    }\n",
       "</style>\n",
       "<table border=\"1\" class=\"dataframe\">\n",
       "  <thead>\n",
       "    <tr style=\"text-align: right;\">\n",
       "      <th></th>\n",
       "      <th>feature_name</th>\n",
       "      <th>feature_score</th>\n",
       "    </tr>\n",
       "  </thead>\n",
       "  <tbody>\n",
       "    <tr>\n",
       "      <th>0</th>\n",
       "      <td>recency</td>\n",
       "      <td>21.878295</td>\n",
       "    </tr>\n",
       "    <tr>\n",
       "      <th>1</th>\n",
       "      <td>is_referral</td>\n",
       "      <td>21.705103</td>\n",
       "    </tr>\n",
       "    <tr>\n",
       "      <th>2</th>\n",
       "      <td>treatment</td>\n",
       "      <td>16.518701</td>\n",
       "    </tr>\n",
       "    <tr>\n",
       "      <th>3</th>\n",
       "      <td>used_bogo</td>\n",
       "      <td>8.953997</td>\n",
       "    </tr>\n",
       "    <tr>\n",
       "      <th>4</th>\n",
       "      <td>history</td>\n",
       "      <td>8.289842</td>\n",
       "    </tr>\n",
       "    <tr>\n",
       "      <th>5</th>\n",
       "      <td>zip_code</td>\n",
       "      <td>8.122473</td>\n",
       "    </tr>\n",
       "    <tr>\n",
       "      <th>6</th>\n",
       "      <td>channel</td>\n",
       "      <td>7.356624</td>\n",
       "    </tr>\n",
       "    <tr>\n",
       "      <th>7</th>\n",
       "      <td>used_discount</td>\n",
       "      <td>7.174965</td>\n",
       "    </tr>\n",
       "  </tbody>\n",
       "</table>\n",
       "</div>"
      ],
      "text/plain": [
       "    feature_name  feature_score\n",
       "0        recency      21.878295\n",
       "1    is_referral      21.705103\n",
       "2      treatment      16.518701\n",
       "3      used_bogo       8.953997\n",
       "4        history       8.289842\n",
       "5       zip_code       8.122473\n",
       "6        channel       7.356624\n",
       "7  used_discount       7.174965"
      ]
     },
     "execution_count": 43,
     "metadata": {},
     "output_type": "execute_result"
    }
   ],
   "source": [
    "# выводим важности признаков из обученной модели\n",
    "sm_fi = pd.DataFrame({\n",
    "    'feature_name': sm.estimator.feature_names_,\n",
    "    'feature_score': sm.estimator.feature_importances_\n",
    "}).sort_values('feature_score', ascending=False).reset_index(drop=True)\n",
    "\n",
    "sm_fi"
   ]
  },
  {
   "cell_type": "markdown",
   "id": "fcb26aab",
   "metadata": {},
   "source": [
    "#### Модель с модель с трансформацией таргета (используем тот же набор данных)"
   ]
  },
  {
   "cell_type": "code",
   "execution_count": 44,
   "id": "2e892075",
   "metadata": {},
   "outputs": [],
   "source": [
    "# создаем класс\n",
    "ct = ClassTransformation(CatBoostClassifier(iterations=20, thread_count=2, random_state=42, silent=True))"
   ]
  },
  {
   "cell_type": "code",
   "execution_count": 45,
   "id": "df490240",
   "metadata": {},
   "outputs": [
    {
     "name": "stdout",
     "output_type": "stream",
     "text": [
      "CPU times: total: 1.12 s\n",
      "Wall time: 827 ms\n"
     ]
    }
   ],
   "source": [
    "%%time\n",
    "# и обучаем\n",
    "ct = ct.fit(X_train, y_train, treat_train, estimator_fit_params={'cat_features': cat_features})"
   ]
  },
  {
   "cell_type": "code",
   "execution_count": 46,
   "id": "ba3cd1a2",
   "metadata": {},
   "outputs": [],
   "source": [
    "# предсказываем и считаем метрики качества\n",
    "uplift_ct = ct.predict(X_test)\n",
    "ct_score = uplift_at_k(y_true=y_test, uplift=uplift_ct, treatment=treat_test, strategy='by_group', k=0.3)"
   ]
  },
  {
   "cell_type": "code",
   "execution_count": 47,
   "id": "cc603644",
   "metadata": {},
   "outputs": [],
   "source": [
    "# записываем результаты в словарь\n",
    "models_results['approach'].append('ClassTransformation')\n",
    "models_results['uplift@30%'].append(ct_score)"
   ]
  },
  {
   "cell_type": "code",
   "execution_count": 48,
   "id": "4005d7be",
   "metadata": {},
   "outputs": [],
   "source": [
    "# считаем метрики качества для k=0.2 и записываем в словарь\n",
    "ct_score = uplift_at_k(y_true=y_test, uplift=uplift_ct, treatment=treat_test, strategy='by_group', k=0.2)\n",
    "models_results['uplift@20%'].append(ct_score)"
   ]
  },
  {
   "cell_type": "code",
   "execution_count": 49,
   "id": "04505834",
   "metadata": {},
   "outputs": [],
   "source": [
    "# считаем метрики качества для k=0.1 и записываем в словарь\n",
    "ct_score = uplift_at_k(y_true=y_test, uplift=uplift_ct, treatment=treat_test, strategy='by_group', k=0.1)\n",
    "models_results['uplift@10%'].append(ct_score)"
   ]
  },
  {
   "cell_type": "code",
   "execution_count": 50,
   "id": "391a2bde",
   "metadata": {},
   "outputs": [
    {
     "data": {
      "text/plain": [
       "{'approach': ['SoloModel', 'ClassTransformation'],\n",
       " 'uplift@10%': [0.11267605633802819, 0.08920187793427228],\n",
       " 'uplift@20%': [0.10417251457160312, 0.09243267341446099],\n",
       " 'uplift@30%': [0.11386932707355242, 0.09040248435054773]}"
      ]
     },
     "execution_count": 50,
     "metadata": {},
     "output_type": "execute_result"
    }
   ],
   "source": [
    "models_results"
   ]
  },
  {
   "cell_type": "code",
   "execution_count": null,
   "id": "dd509424",
   "metadata": {},
   "outputs": [],
   "source": []
  },
  {
   "cell_type": "markdown",
   "id": "39870ae7",
   "metadata": {},
   "source": [
    "#### Две независимые модели\n",
    "Объявляем две независимые модели"
   ]
  },
  {
   "cell_type": "code",
   "execution_count": 51,
   "id": "75071e3a",
   "metadata": {},
   "outputs": [],
   "source": [
    "treat_train_np = np.array(treat_train['treatment'])"
   ]
  },
  {
   "cell_type": "code",
   "execution_count": 52,
   "id": "9534ce6d",
   "metadata": {},
   "outputs": [],
   "source": [
    "tm = TwoModels(  \n",
    "    estimator_trmnt=CatBoostClassifier(iterations=20, thread_count=2, random_state=42, silent=True), \n",
    "    estimator_ctrl=CatBoostClassifier(iterations=20, thread_count=2, random_state=42, silent=True), \n",
    "    method='vanilla'\n",
    ") "
   ]
  },
  {
   "cell_type": "code",
   "execution_count": 53,
   "id": "66cba29e",
   "metadata": {},
   "outputs": [
    {
     "name": "stdout",
     "output_type": "stream",
     "text": [
      "CPU times: total: 0 ns\n",
      "Wall time: 0 ns\n"
     ]
    }
   ],
   "source": [
    "%time\n",
    "# method ='ddr_control' ('ddr_treatment') - зависимые модели\n",
    "# обучаем модели\n",
    "tm = tm.fit(\n",
    "    X_train, \n",
    "    y_train, \n",
    "    treat_train_np,\n",
    "    estimator_trmnt_fit_params={'cat_features': cat_features}, \n",
    "    estimator_ctrl_fit_params={'cat_features': cat_features}\n",
    ")"
   ]
  },
  {
   "cell_type": "code",
   "execution_count": 54,
   "id": "c00de02e",
   "metadata": {},
   "outputs": [],
   "source": [
    "# предсказываем и считаем метрики качества\n",
    "uplift_tm = tm.predict(X_test)\n",
    "tm_score = uplift_at_k(y_true=y_test, uplift=uplift_tm, treatment=treat_test, strategy='by_group', k=0.3)"
   ]
  },
  {
   "cell_type": "code",
   "execution_count": 55,
   "id": "1f5de069",
   "metadata": {},
   "outputs": [],
   "source": [
    "# записываем результаты в словарь\n",
    "models_results['approach'].append('TwoModels')\n",
    "models_results['uplift@30%'].append(tm_score)"
   ]
  },
  {
   "cell_type": "code",
   "execution_count": 56,
   "id": "08e95ccf",
   "metadata": {},
   "outputs": [],
   "source": [
    "# считаем метрики качества для k=0.2 и записываем в словарь\n",
    "tm_score = uplift_at_k(y_true=y_test, uplift=uplift_tm, treatment=treat_test, strategy='by_group', k=0.2)\n",
    "models_results['uplift@20%'].append(tm_score)"
   ]
  },
  {
   "cell_type": "code",
   "execution_count": 57,
   "id": "89df4364",
   "metadata": {},
   "outputs": [],
   "source": [
    "# считаем метрики качества для k=0.1 и записываем в словарь\n",
    "tm_score = uplift_at_k(y_true=y_test, uplift=uplift_tm, treatment=treat_test, strategy='by_group', k=0.1)\n",
    "models_results['uplift@10%'].append(tm_score)"
   ]
  },
  {
   "cell_type": "code",
   "execution_count": 58,
   "id": "3d5324a8",
   "metadata": {},
   "outputs": [
    {
     "data": {
      "text/plain": [
       "{'approach': ['SoloModel', 'ClassTransformation', 'TwoModels'],\n",
       " 'uplift@10%': [0.11267605633802819, 0.08920187793427228, 0.09859154929577466],\n",
       " 'uplift@20%': [0.10417251457160312, 0.09243267341446099, 0.09011277512672755],\n",
       " 'uplift@30%': [0.11386932707355242, 0.09040248435054773, 0.0943503032081377]}"
      ]
     },
     "execution_count": 58,
     "metadata": {},
     "output_type": "execute_result"
    }
   ],
   "source": [
    "models_results"
   ]
  },
  {
   "cell_type": "markdown",
   "id": "6532a870",
   "metadata": {},
   "source": [
    "#### Строим графики"
   ]
  },
  {
   "cell_type": "code",
   "execution_count": 59,
   "id": "ff56c2ea",
   "metadata": {},
   "outputs": [
    {
     "data": {
      "image/png": "[encoded data removed]",
      "text/plain": [
       "<Figure size 1440x504 with 3 Axes>"
      ]
     },
     "metadata": {
      "needs_background": "light"
     },
     "output_type": "display_data"
    }
   ],
   "source": [
    "plot_uplift_preds_(trmnt_preds=tm.trmnt_preds_, ctrl_preds=tm.ctrl_preds_);"
   ]
  },
  {
   "cell_type": "code",
   "execution_count": 60,
   "id": "f178f1e4",
   "metadata": {},
   "outputs": [
    {
     "name": "stdout",
     "output_type": "stream",
     "text": [
      "Solo Model\n"
     ]
    },
    {
     "name": "stderr",
     "output_type": "stream",
     "text": [
      "C:\\_GeekBrain\\BigData2021\\ML_in_business\\venv\\lib\\site-packages\\sklift\\metrics\\metrics.py:208: RuntimeWarning: divide by zero encountered in double_scalars\n",
      "  return auc_score_actual / auc_score_perfect\n"
     ]
    },
    {
     "data": {
      "image/png": "[encoded data removed]",
      "text/plain": [
       "<Figure size 432x288 with 1 Axes>"
      ]
     },
     "metadata": {
      "needs_background": "light"
     },
     "output_type": "display_data"
    }
   ],
   "source": [
    "print('Solo Model')\n",
    "plot_uplift_curve(y_test, uplift_sm, treat_test, perfect=False)\n",
    "plt.show()"
   ]
  },
  {
   "cell_type": "code",
   "execution_count": 61,
   "id": "c34cc220",
   "metadata": {},
   "outputs": [
    {
     "name": "stderr",
     "output_type": "stream",
     "text": [
      "C:\\_GeekBrain\\BigData2021\\ML_in_business\\venv\\lib\\site-packages\\sklift\\metrics\\metrics.py:208: RuntimeWarning: divide by zero encountered in double_scalars\n",
      "  return auc_score_actual / auc_score_perfect\n"
     ]
    },
    {
     "name": "stdout",
     "output_type": "stream",
     "text": [
      "ClassTransform Model\n"
     ]
    },
    {
     "data": {
      "image/png": "[encoded data removed]",
      "text/plain": [
       "<Figure size 432x288 with 1 Axes>"
      ]
     },
     "metadata": {
      "needs_background": "light"
     },
     "output_type": "display_data"
    }
   ],
   "source": [
    "print('ClassTransform Model')\n",
    "plot_uplift_curve(y_test, uplift_ct, treat_test, perfect=False)\n",
    "plt.show()"
   ]
  },
  {
   "cell_type": "code",
   "execution_count": 62,
   "id": "7e41bbed",
   "metadata": {},
   "outputs": [
    {
     "name": "stdout",
     "output_type": "stream",
     "text": [
      "Two Model\n"
     ]
    },
    {
     "name": "stderr",
     "output_type": "stream",
     "text": [
      "C:\\_GeekBrain\\BigData2021\\ML_in_business\\venv\\lib\\site-packages\\sklift\\metrics\\metrics.py:208: RuntimeWarning: divide by zero encountered in double_scalars\n",
      "  return auc_score_actual / auc_score_perfect\n"
     ]
    },
    {
     "data": {
      "image/png": "[encoded data removed]",
      "text/plain": [
       "<Figure size 432x288 with 1 Axes>"
      ]
     },
     "metadata": {
      "needs_background": "light"
     },
     "output_type": "display_data"
    }
   ],
   "source": [
    "print('Two Model')\n",
    "plot_uplift_curve(y_test, uplift_tm, treat_test, perfect=False)\n",
    "plt.show()"
   ]
  },
  {
   "cell_type": "code",
   "execution_count": 63,
   "id": "ff95e571",
   "metadata": {},
   "outputs": [
    {
     "name": "stderr",
     "output_type": "stream",
     "text": [
      "C:\\Python\\lib\\site-packages\\numpy\\core\\fromnumeric.py:3162: VisibleDeprecationWarning: Creating an ndarray from ragged nested sequences (which is a list-or-tuple of lists-or-tuples-or ndarrays with different lengths or shapes) is deprecated. If you meant to do this, you must specify 'dtype=object' when creating the ndarray.\n",
      "  return asarray(a).ndim\n"
     ]
    },
    {
     "data": {
      "text/html": [
       "<div>\n",
       "<style scoped>\n",
       "    .dataframe tbody tr th:only-of-type {\n",
       "        vertical-align: middle;\n",
       "    }\n",
       "\n",
       "    .dataframe tbody tr th {\n",
       "        vertical-align: top;\n",
       "    }\n",
       "\n",
       "    .dataframe thead th {\n",
       "        text-align: right;\n",
       "    }\n",
       "</style>\n",
       "<table border=\"1\" class=\"dataframe\">\n",
       "  <thead>\n",
       "    <tr style=\"text-align: right;\">\n",
       "      <th></th>\n",
       "      <th>n_treatment</th>\n",
       "      <th>n_control</th>\n",
       "      <th>response_rate_treatment</th>\n",
       "      <th>response_rate_control</th>\n",
       "      <th>uplift</th>\n",
       "      <th>std_treatment</th>\n",
       "      <th>std_control</th>\n",
       "      <th>std_uplift</th>\n",
       "    </tr>\n",
       "    <tr>\n",
       "      <th>percentile</th>\n",
       "      <th></th>\n",
       "      <th></th>\n",
       "      <th></th>\n",
       "      <th></th>\n",
       "      <th></th>\n",
       "      <th></th>\n",
       "      <th></th>\n",
       "      <th></th>\n",
       "    </tr>\n",
       "  </thead>\n",
       "  <tbody>\n",
       "    <tr>\n",
       "      <th>0-10</th>\n",
       "      <td>434</td>\n",
       "      <td>206</td>\n",
       "      <td>0.258065</td>\n",
       "      <td>0.169903</td>\n",
       "      <td>0.088162</td>\n",
       "      <td>0.021004</td>\n",
       "      <td>0.026166</td>\n",
       "      <td>0.033553</td>\n",
       "    </tr>\n",
       "    <tr>\n",
       "      <th>10-20</th>\n",
       "      <td>440</td>\n",
       "      <td>200</td>\n",
       "      <td>0.186364</td>\n",
       "      <td>0.100000</td>\n",
       "      <td>0.086364</td>\n",
       "      <td>0.018564</td>\n",
       "      <td>0.021213</td>\n",
       "      <td>0.028189</td>\n",
       "    </tr>\n",
       "    <tr>\n",
       "      <th>20-30</th>\n",
       "      <td>419</td>\n",
       "      <td>221</td>\n",
       "      <td>0.186158</td>\n",
       "      <td>0.085973</td>\n",
       "      <td>0.100185</td>\n",
       "      <td>0.019015</td>\n",
       "      <td>0.018857</td>\n",
       "      <td>0.026780</td>\n",
       "    </tr>\n",
       "    <tr>\n",
       "      <th>30-40</th>\n",
       "      <td>423</td>\n",
       "      <td>217</td>\n",
       "      <td>0.163121</td>\n",
       "      <td>0.096774</td>\n",
       "      <td>0.066346</td>\n",
       "      <td>0.017965</td>\n",
       "      <td>0.020070</td>\n",
       "      <td>0.026936</td>\n",
       "    </tr>\n",
       "    <tr>\n",
       "      <th>40-50</th>\n",
       "      <td>446</td>\n",
       "      <td>194</td>\n",
       "      <td>0.163677</td>\n",
       "      <td>0.103093</td>\n",
       "      <td>0.060584</td>\n",
       "      <td>0.017519</td>\n",
       "      <td>0.021832</td>\n",
       "      <td>0.027992</td>\n",
       "    </tr>\n",
       "    <tr>\n",
       "      <th>50-60</th>\n",
       "      <td>430</td>\n",
       "      <td>210</td>\n",
       "      <td>0.132558</td>\n",
       "      <td>0.095238</td>\n",
       "      <td>0.037320</td>\n",
       "      <td>0.016353</td>\n",
       "      <td>0.020256</td>\n",
       "      <td>0.026033</td>\n",
       "    </tr>\n",
       "    <tr>\n",
       "      <th>60-70</th>\n",
       "      <td>414</td>\n",
       "      <td>226</td>\n",
       "      <td>0.154589</td>\n",
       "      <td>0.092920</td>\n",
       "      <td>0.061669</td>\n",
       "      <td>0.017767</td>\n",
       "      <td>0.019312</td>\n",
       "      <td>0.026242</td>\n",
       "    </tr>\n",
       "    <tr>\n",
       "      <th>70-80</th>\n",
       "      <td>413</td>\n",
       "      <td>227</td>\n",
       "      <td>0.135593</td>\n",
       "      <td>0.127753</td>\n",
       "      <td>0.007840</td>\n",
       "      <td>0.016846</td>\n",
       "      <td>0.022156</td>\n",
       "      <td>0.027833</td>\n",
       "    </tr>\n",
       "    <tr>\n",
       "      <th>80-90</th>\n",
       "      <td>422</td>\n",
       "      <td>218</td>\n",
       "      <td>0.111374</td>\n",
       "      <td>0.082569</td>\n",
       "      <td>0.028806</td>\n",
       "      <td>0.015314</td>\n",
       "      <td>0.018641</td>\n",
       "      <td>0.024125</td>\n",
       "    </tr>\n",
       "    <tr>\n",
       "      <th>90-100</th>\n",
       "      <td>428</td>\n",
       "      <td>212</td>\n",
       "      <td>0.130841</td>\n",
       "      <td>0.094340</td>\n",
       "      <td>0.036501</td>\n",
       "      <td>0.016300</td>\n",
       "      <td>0.020075</td>\n",
       "      <td>0.025860</td>\n",
       "    </tr>\n",
       "    <tr>\n",
       "      <th>total</th>\n",
       "      <td>4269</td>\n",
       "      <td>2131</td>\n",
       "      <td>0.162567</td>\n",
       "      <td>0.104646</td>\n",
       "      <td>0.057922</td>\n",
       "      <td>0.176648</td>\n",
       "      <td>0.208578</td>\n",
       "      <td>0.273542</td>\n",
       "    </tr>\n",
       "  </tbody>\n",
       "</table>\n",
       "</div>"
      ],
      "text/plain": [
       "            n_treatment  n_control  response_rate_treatment  \\\n",
       "percentile                                                    \n",
       "0-10                434        206                 0.258065   \n",
       "10-20               440        200                 0.186364   \n",
       "20-30               419        221                 0.186158   \n",
       "30-40               423        217                 0.163121   \n",
       "40-50               446        194                 0.163677   \n",
       "50-60               430        210                 0.132558   \n",
       "60-70               414        226                 0.154589   \n",
       "70-80               413        227                 0.135593   \n",
       "80-90               422        218                 0.111374   \n",
       "90-100              428        212                 0.130841   \n",
       "total              4269       2131                 0.162567   \n",
       "\n",
       "            response_rate_control    uplift  std_treatment  std_control  \\\n",
       "percentile                                                                \n",
       "0-10                     0.169903  0.088162       0.021004     0.026166   \n",
       "10-20                    0.100000  0.086364       0.018564     0.021213   \n",
       "20-30                    0.085973  0.100185       0.019015     0.018857   \n",
       "30-40                    0.096774  0.066346       0.017965     0.020070   \n",
       "40-50                    0.103093  0.060584       0.017519     0.021832   \n",
       "50-60                    0.095238  0.037320       0.016353     0.020256   \n",
       "60-70                    0.092920  0.061669       0.017767     0.019312   \n",
       "70-80                    0.127753  0.007840       0.016846     0.022156   \n",
       "80-90                    0.082569  0.028806       0.015314     0.018641   \n",
       "90-100                   0.094340  0.036501       0.016300     0.020075   \n",
       "total                    0.104646  0.057922       0.176648     0.208578   \n",
       "\n",
       "            std_uplift  \n",
       "percentile              \n",
       "0-10          0.033553  \n",
       "10-20         0.028189  \n",
       "20-30         0.026780  \n",
       "30-40         0.026936  \n",
       "40-50         0.027992  \n",
       "50-60         0.026033  \n",
       "60-70         0.026242  \n",
       "70-80         0.027833  \n",
       "80-90         0.024125  \n",
       "90-100        0.025860  \n",
       "total         0.273542  "
      ]
     },
     "execution_count": 63,
     "metadata": {},
     "output_type": "execute_result"
    }
   ],
   "source": [
    "uplift_by_percentile(y_test,uplift_tm, treat_test, \n",
    "                     strategy='overall', \n",
    "                     total=True, std=True, bins=10)"
   ]
  },
  {
   "cell_type": "code",
   "execution_count": 64,
   "id": "ad82f5dd",
   "metadata": {},
   "outputs": [
    {
     "name": "stderr",
     "output_type": "stream",
     "text": [
      "C:\\Python\\lib\\site-packages\\numpy\\core\\fromnumeric.py:3162: VisibleDeprecationWarning: Creating an ndarray from ragged nested sequences (which is a list-or-tuple of lists-or-tuples-or ndarrays with different lengths or shapes) is deprecated. If you meant to do this, you must specify 'dtype=object' when creating the ndarray.\n",
      "  return asarray(a).ndim\n"
     ]
    },
    {
     "data": {
      "image/png": "[encoded data removed]",
      "text/plain": [
       "<Figure size 576x432 with 2 Axes>"
      ]
     },
     "metadata": {
      "needs_background": "light"
     },
     "output_type": "display_data"
    }
   ],
   "source": [
    "plot_uplift_by_percentile(y_test, uplift_tm, treat_test, \n",
    "                          strategy='overall', kind='bar'); # line"
   ]
  },
  {
   "cell_type": "markdown",
   "id": "23c5572f",
   "metadata": {},
   "source": [
    "#### Выводим единую таблицу сравнения метрик uplift@10%, uplift@20% этих 3 моделей"
   ]
  },
  {
   "cell_type": "code",
   "execution_count": 65,
   "id": "e2592d11",
   "metadata": {},
   "outputs": [
    {
     "data": {
      "text/plain": [
       "{'approach': ['SoloModel', 'ClassTransformation', 'TwoModels'],\n",
       " 'uplift@10%': [0.11267605633802819, 0.08920187793427228, 0.09859154929577466],\n",
       " 'uplift@20%': [0.10417251457160312, 0.09243267341446099, 0.09011277512672755],\n",
       " 'uplift@30%': [0.11386932707355242, 0.09040248435054773, 0.0943503032081377]}"
      ]
     },
     "execution_count": 65,
     "metadata": {},
     "output_type": "execute_result"
    }
   ],
   "source": [
    "models_results"
   ]
  },
  {
   "cell_type": "code",
   "execution_count": 70,
   "id": "d6310a86",
   "metadata": {},
   "outputs": [
    {
     "data": {
      "text/html": [
       "<div>\n",
       "<style scoped>\n",
       "    .dataframe tbody tr th:only-of-type {\n",
       "        vertical-align: middle;\n",
       "    }\n",
       "\n",
       "    .dataframe tbody tr th {\n",
       "        vertical-align: top;\n",
       "    }\n",
       "\n",
       "    .dataframe thead th {\n",
       "        text-align: right;\n",
       "    }\n",
       "</style>\n",
       "<table border=\"1\" class=\"dataframe\">\n",
       "  <thead>\n",
       "    <tr style=\"text-align: right;\">\n",
       "      <th></th>\n",
       "      <th>approach</th>\n",
       "      <th>uplift@10%</th>\n",
       "      <th>uplift@20%</th>\n",
       "      <th>uplift@30%</th>\n",
       "    </tr>\n",
       "  </thead>\n",
       "  <tbody>\n",
       "    <tr>\n",
       "      <th>0</th>\n",
       "      <td>SoloModel</td>\n",
       "      <td>0.112676</td>\n",
       "      <td>0.104173</td>\n",
       "      <td>0.113869</td>\n",
       "    </tr>\n",
       "    <tr>\n",
       "      <th>2</th>\n",
       "      <td>TwoModels</td>\n",
       "      <td>0.098592</td>\n",
       "      <td>0.090113</td>\n",
       "      <td>0.094350</td>\n",
       "    </tr>\n",
       "    <tr>\n",
       "      <th>1</th>\n",
       "      <td>ClassTransformation</td>\n",
       "      <td>0.089202</td>\n",
       "      <td>0.092433</td>\n",
       "      <td>0.090402</td>\n",
       "    </tr>\n",
       "  </tbody>\n",
       "</table>\n",
       "</div>"
      ],
      "text/plain": [
       "              approach  uplift@10%  uplift@20%  uplift@30%\n",
       "0            SoloModel    0.112676    0.104173    0.113869\n",
       "2            TwoModels    0.098592    0.090113    0.094350\n",
       "1  ClassTransformation    0.089202    0.092433    0.090402"
      ]
     },
     "execution_count": 70,
     "metadata": {},
     "output_type": "execute_result"
    }
   ],
   "source": [
    "pd.DataFrame(data=models_results).sort_values('uplift@30%', ascending=False)"
   ]
  },
  {
   "cell_type": "markdown",
   "id": "b728b58a",
   "metadata": {},
   "source": [
    "#### Cтроим модель UpliftTreeClassifier"
   ]
  },
  {
   "cell_type": "code",
   "execution_count": 67,
   "id": "de1c6f85",
   "metadata": {},
   "outputs": [],
   "source": [
    "# !pip install causalml"
   ]
  },
  {
   "cell_type": "code",
   "execution_count": 68,
   "id": "1a780ba6",
   "metadata": {},
   "outputs": [],
   "source": [
    "#!pip install causalml-0.10.0-cp38-cp38-win_amd64.whl"
   ]
  },
  {
   "cell_type": "markdown",
   "id": "6d9565be",
   "metadata": {},
   "source": [
    "в итоге так и не смог установить Casualml"
   ]
  }
 ],
 "metadata": {
  "kernelspec": {
   "display_name": "ML_in_business",
   "language": "python",
   "name": "ml_in_business"
  },
  "language_info": {
   "codemirror_mode": {
    "name": "ipython",
    "version": 3
   },
   "file_extension": ".py",
   "mimetype": "text/x-python",
   "name": "python",
   "nbconvert_exporter": "python",
   "pygments_lexer": "ipython3",
   "version": "3.9.1"
  }
 },
 "nbformat": 4,
 "nbformat_minor": 5
}
