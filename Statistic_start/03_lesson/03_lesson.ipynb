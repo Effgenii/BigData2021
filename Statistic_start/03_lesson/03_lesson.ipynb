{
 "cells": [
  {
   "cell_type": "markdown",
   "id": "22eb33d1",
   "metadata": {},
   "source": [
    "Задача 1\n",
    "Даны значения зарплат из выборки выпускников: \n",
    "100, 80, 75, 77, 89, 33, 45, 25, 65, 17, 30, 230, 24, 57, 55, 70, 75, 65, 84, 90, 150\n",
    "Используя только встроенные питоновские функции и структуры данных (т.е. без библиотек `numpy`, `pandas` и др.), \n",
    "посчитайте (несмещённое) среднее квадратичное отклонение для данной выборки."
   ]
  },
  {
   "cell_type": "code",
   "execution_count": 1,
   "id": "92e158ac",
   "metadata": {},
   "outputs": [
    {
     "name": "stdout",
     "output_type": "stream",
     "text": [
      "несмещённое среднее квадратичное отклонение: 47.34795213553139\n"
     ]
    }
   ],
   "source": [
    "data = [100, 80, 75, 77, 89, 33, 45, 25, 65, 17, 30, 230, 24, 57, 55, 70, 75, 65, 84, 90, 150]\n",
    "length = len(data)\n",
    "mean = sum(data) / length\n",
    "mapped_data = map(lambda x: (x - mean)**2, data)\n",
    "var = sum(mapped_data)/ (length - 1)\n",
    "std = var**0.5\n",
    "print (\"несмещённое среднее квадратичное отклонение:\", std)"
   ]
  },
  {
   "cell_type": "markdown",
   "id": "67879b52",
   "metadata": {},
   "source": [
    "Задача 2\n",
    "Найдите число выбросов в выборке из задачи 1. Для определения выбросов используйте методику как при построении \"усов\" \n",
    "в `boxplot`, однако, как и в задаче 1, пользоваться можно только встроенными функциями и структурами данных."
   ]
  },
  {
   "cell_type": "code",
   "execution_count": 8,
   "id": "79fa3dad",
   "metadata": {},
   "outputs": [],
   "source": [
    "sorted_data = sorted(data)"
   ]
  },
  {
   "cell_type": "code",
   "execution_count": 5,
   "id": "eab7aec1",
   "metadata": {},
   "outputs": [],
   "source": [
    "if length // 4 != 0:\n",
    "    q1_pos = length // 4"
   ]
  },
  {
   "cell_type": "code",
   "execution_count": 6,
   "id": "fce6fab9",
   "metadata": {},
   "outputs": [],
   "source": [
    "med = sorted_data[q1_pos * 2]\n",
    "q1 = sorted_data[q1_pos]\n",
    "q3 = sorted_data[q1_pos * 3]\n",
    "IQR = q3 - q1"
   ]
  },
  {
   "cell_type": "code",
   "execution_count": 7,
   "id": "2b6f05f2",
   "metadata": {},
   "outputs": [
    {
     "name": "stdout",
     "output_type": "stream",
     "text": [
      "число выбросов в выборке: 2\n"
     ]
    }
   ],
   "source": [
    "boxplot = [q1 - 1.5 * IQR, q3 + 1.5 * IQR]\n",
    "outlier = [x for x in sorted_data if x >= boxplot[1] or x <= boxplot[0]]\n",
    "print('число выбросов в выборке:',len(outlier))"
   ]
  },
  {
   "cell_type": "markdown",
   "id": "804115c4",
   "metadata": {},
   "source": [
    "Задача 3\n",
    "В университет на факультет A поступило 100 человек, на факультет B - 90 человек и на факультет C - 45 человек. \n",
    "Вероятность того, что студент с факультета A сдаст первую сессию, равна 0.6. Для студента с факультета B эта вероятность \n",
    "равна 0.7, а для студента с факультета C - 0.8. Случайным образом выбирается студент, сдавший первую сессию. \n",
    "Какое событие наиболее вероятно:\n",
    "1. студент учится на факультете A,\n",
    "2. студент учится на факультете B,\n",
    "3. студент учится на факультете C?"
   ]
  },
  {
   "cell_type": "code",
   "execution_count": 9,
   "id": "231fcec9",
   "metadata": {},
   "outputs": [],
   "source": [
    "A = 100\n",
    "B = 90\n",
    "C = 45\n",
    "total = A + B + C\n",
    "p_A = A / total\n",
    "p_B = B / total\n",
    "p_C = C / total"
   ]
  },
  {
   "cell_type": "code",
   "execution_count": 10,
   "id": "b59f6a57",
   "metadata": {},
   "outputs": [],
   "source": [
    "PA = 0.6\n",
    "PB = 0.7\n",
    "PC = 0.8"
   ]
  },
  {
   "cell_type": "code",
   "execution_count": 11,
   "id": "5208f024",
   "metadata": {},
   "outputs": [
    {
     "data": {
      "text/plain": [
       "0.676595744680851"
      ]
     },
     "execution_count": 11,
     "metadata": {},
     "output_type": "execute_result"
    }
   ],
   "source": [
    "# по формуле полной вероятности\n",
    "PS = PA * p_A + PB * p_B + PC * p_C\n",
    "PS"
   ]
  },
  {
   "cell_type": "code",
   "execution_count": 12,
   "id": "f1e4e51a",
   "metadata": {},
   "outputs": [
    {
     "data": {
      "text/plain": [
       "(0.3773584905660377, 0.39622641509433965, 0.22641509433962265)"
      ]
     },
     "execution_count": 12,
     "metadata": {},
     "output_type": "execute_result"
    }
   ],
   "source": [
    "# по формуле Байеса\n",
    "P_AS = PA * p_A / PS\n",
    "P_BS = PB * p_B / PS\n",
    "P_CS = PC * p_C / PS\n",
    "\n",
    "P_AS, P_BS, P_CS"
   ]
  },
  {
   "cell_type": "markdown",
   "id": "d39c1f60",
   "metadata": {},
   "source": [
    "Наиболее вероятно, что студент учится на факультете В"
   ]
  }
 ],
 "metadata": {
  "kernelspec": {
   "display_name": "Python 3 (ipykernel)",
   "language": "python",
   "name": "python3"
  },
  "language_info": {
   "codemirror_mode": {
    "name": "ipython",
    "version": 3
   },
   "file_extension": ".py",
   "mimetype": "text/x-python",
   "name": "python",
   "nbconvert_exporter": "python",
   "pygments_lexer": "ipython3",
   "version": "3.9.1"
  }
 },
 "nbformat": 4,
 "nbformat_minor": 5
}
