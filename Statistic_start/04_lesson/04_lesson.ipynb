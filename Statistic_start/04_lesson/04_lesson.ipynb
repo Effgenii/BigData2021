{
 "cells": [
  {
   "cell_type": "markdown",
   "id": "83c3af6b",
   "metadata": {},
   "source": [
    "Случайная непрерывная величина A имеет равномерное распределение на промежутке (200, 800]. Найдите ее среднее значение и дисперсию."
   ]
  },
  {
   "cell_type": "code",
   "execution_count": 5,
   "id": "3db1f978",
   "metadata": {},
   "outputs": [],
   "source": [
    "import numpy as np\n",
    "from scipy import stats"
   ]
  },
  {
   "cell_type": "code",
   "execution_count": 1,
   "id": "dd610494",
   "metadata": {},
   "outputs": [
    {
     "name": "stdout",
     "output_type": "stream",
     "text": [
      "E = 500.000005\n"
     ]
    }
   ],
   "source": [
    "interv = (200.00001, 800)\n",
    "\n",
    "E = (interv[0]+interv[1])/len(interv)\n",
    "print(f'E = {E}')"
   ]
  },
  {
   "cell_type": "code",
   "execution_count": 3,
   "id": "ab8a5598",
   "metadata": {},
   "outputs": [
    {
     "name": "stdout",
     "output_type": "stream",
     "text": [
      "D = 29999.99900000001\n"
     ]
    }
   ],
   "source": [
    "D = (interv[1]-interv[0])**2/12\n",
    "print(f'D = {D}')"
   ]
  },
  {
   "cell_type": "markdown",
   "id": "7013c8cd",
   "metadata": {},
   "source": [
    "О случайной непрерывной равномерно распределенной величине B известно, что ее дисперсия равна 0.2. Можно ли найти правую границу величины B и ее среднее значение зная, что левая граница равна 0.5? Если да, найдите ее"
   ]
  },
  {
   "cell_type": "code",
   "execution_count": 6,
   "id": "ecc7b1a8",
   "metadata": {},
   "outputs": [],
   "source": [
    "import sympy as sp"
   ]
  },
  {
   "cell_type": "code",
   "execution_count": 7,
   "id": "6d98615f",
   "metadata": {},
   "outputs": [
    {
     "data": {
      "text/latex": [
       "$\\displaystyle \\frac{\\left(b - 0.5\\right)^{2}}{12} = 0.2$"
      ],
      "text/plain": [
       "Eq((b - 0.5)**2/12, 0.2)"
      ]
     },
     "execution_count": 7,
     "metadata": {},
     "output_type": "execute_result"
    }
   ],
   "source": [
    "D, a, b = sp.symbols('D a b')\n",
    "a = 0.5\n",
    "D = 0.2\n",
    "expr = sp.Eq((b - a)**2 / 12, D)\n",
    "expr"
   ]
  },
  {
   "cell_type": "code",
   "execution_count": 8,
   "id": "ec344456",
   "metadata": {},
   "outputs": [
    {
     "data": {
      "text/plain": [
       "[-1.04919333848297, 2.04919333848297]"
      ]
     },
     "execution_count": 8,
     "metadata": {},
     "output_type": "execute_result"
    }
   ],
   "source": [
    "b_ = sp.solve(expr, b)\n",
    "b_"
   ]
  },
  {
   "cell_type": "code",
   "execution_count": 9,
   "id": "760d159d",
   "metadata": {},
   "outputs": [],
   "source": [
    "E = (a + b_[1]) / 2"
   ]
  },
  {
   "cell_type": "code",
   "execution_count": 10,
   "id": "df111661",
   "metadata": {},
   "outputs": [
    {
     "name": "stdout",
     "output_type": "stream",
     "text": [
      "Правая граница величины B = 2.04919333848297, среднее значение = 1.27459666924148\n"
     ]
    }
   ],
   "source": [
    "print(f'Правая граница величины B = {b_[1]}, среднее значение = {E}')"
   ]
  },
  {
   "cell_type": "code",
   "execution_count": null,
   "id": "0b578d8b",
   "metadata": {},
   "outputs": [],
   "source": [
    "Непрерывная случайная величина X распределена нормально и задана плотностью распределения\n",
    "\n",
    "Найдите:\n",
    "а) M(X)\n",
    "б) D(X)\n",
    "в) std(X) (среднее квадратичное отклонение)"
   ]
  },
  {
   "cell_type": "markdown",
   "id": "826b286e",
   "metadata": {},
   "source": [
    "Если использовать для решения функцию:\n",
    "    f(x) = (1 / (4 * sqrt(2*pi))) * exp(-((x-m)**2 / 32))\n",
    "    \n",
    "и M(X) = mu , D(X) = sigma^2, \n",
    "\n",
    "тогда получим M(X) = -2, D(X) = 16, std(X) = 4"
   ]
  },
  {
   "cell_type": "markdown",
   "id": "68a42416",
   "metadata": {},
   "source": [
    "Рост взрослого населения города X имеет нормальное распределение. Причем, средний рост равен 174 см, а среднее квадратичное отклонение равно 8 см. \n",
    "Какова вероятность того, что случайным образом выбранный взрослый человек имеет рост:\n",
    "а). больше 182 см \n",
    "б). больше 190 см \n",
    "в). от 166 см до 190 см \n",
    "г). от 166 см до 182 см \n",
    "д). от 158 см до 190 см \n",
    "е). не выше 150 см или не ниже 190 см \n",
    "ё). не выше 150 см или не ниже 198 см \n",
    "ж). ниже 166 см."
   ]
  },
  {
   "cell_type": "code",
   "execution_count": 11,
   "id": "015c2e1b",
   "metadata": {},
   "outputs": [],
   "source": [
    "from matplotlib import pyplot as plt"
   ]
  },
  {
   "cell_type": "code",
   "execution_count": 12,
   "id": "86b327b3",
   "metadata": {},
   "outputs": [
    {
     "data": {
      "image/png": "[encoded data removed]",
      "text/plain": [
       "<Figure size 432x288 with 1 Axes>"
      ]
     },
     "metadata": {
      "needs_background": "light"
     },
     "output_type": "display_data"
    }
   ],
   "source": [
    "mu = 174\n",
    "sigma = 8\n",
    "x = np.linspace(130, 220, 1000)\n",
    "plt.plot(x, stats.norm.pdf(x, 174, 8))\n",
    "plt.show()"
   ]
  },
  {
   "cell_type": "code",
   "execution_count": 13,
   "id": "23bbcad5",
   "metadata": {},
   "outputs": [],
   "source": [
    "# по правилу трех сигм\n",
    "P1 = 68.3\n",
    "P2 = 95.4\n",
    "P3 = 99.7"
   ]
  },
  {
   "cell_type": "code",
   "execution_count": 14,
   "id": "cee15eb0",
   "metadata": {},
   "outputs": [
    {
     "data": {
      "text/plain": [
       "15.850000000000001"
      ]
     },
     "execution_count": 14,
     "metadata": {},
     "output_type": "execute_result"
    }
   ],
   "source": [
    "# более 182 см\n",
    "P_gt_182 = (100 - P1) / 2 \n",
    "P_gt_182"
   ]
  },
  {
   "cell_type": "code",
   "execution_count": 15,
   "id": "ab39e055",
   "metadata": {},
   "outputs": [
    {
     "data": {
      "text/plain": [
       "2.299999999999997"
      ]
     },
     "execution_count": 15,
     "metadata": {},
     "output_type": "execute_result"
    }
   ],
   "source": [
    "# более 190 см\n",
    "P_gt_190 = (100 - P2) / 2\n",
    "P_gt_190"
   ]
  },
  {
   "cell_type": "code",
   "execution_count": 16,
   "id": "fdce080a",
   "metadata": {},
   "outputs": [
    {
     "data": {
      "text/plain": [
       "81.85"
      ]
     },
     "execution_count": 16,
     "metadata": {},
     "output_type": "execute_result"
    }
   ],
   "source": [
    "# от 166 см до 190 см\n",
    "P_166_190 = P1 + (P_gt_182 - P_gt_190)\n",
    "P_166_190"
   ]
  },
  {
   "cell_type": "code",
   "execution_count": 17,
   "id": "44353574",
   "metadata": {},
   "outputs": [
    {
     "data": {
      "text/plain": [
       "68.3"
      ]
     },
     "execution_count": 17,
     "metadata": {},
     "output_type": "execute_result"
    }
   ],
   "source": [
    "# от 166 см до 182 см\n",
    "P_166_182 = P1\n",
    "P_166_182"
   ]
  },
  {
   "cell_type": "code",
   "execution_count": 18,
   "id": "7674a816",
   "metadata": {},
   "outputs": [
    {
     "data": {
      "text/plain": [
       "95.4"
      ]
     },
     "execution_count": 18,
     "metadata": {},
     "output_type": "execute_result"
    }
   ],
   "source": [
    "# от 158 см до 190 см\n",
    "P_158_190 = P2\n",
    "P_158_190"
   ]
  },
  {
   "cell_type": "code",
   "execution_count": 19,
   "id": "9e1df6d6",
   "metadata": {},
   "outputs": [
    {
     "data": {
      "text/plain": [
       "2.4499999999999957"
      ]
     },
     "execution_count": 19,
     "metadata": {},
     "output_type": "execute_result"
    }
   ],
   "source": [
    "# не выше 150 см или не ниже 190 см \n",
    "P_lt_150 = (100 - P3) / 2\n",
    "P_lt_150_gt_190 = P_lt_150 + P_gt_190\n",
    "P_lt_150_gt_190"
   ]
  },
  {
   "cell_type": "code",
   "execution_count": 20,
   "id": "be2d70fb",
   "metadata": {},
   "outputs": [
    {
     "data": {
      "text/plain": [
       "0.29999999999999716"
      ]
     },
     "execution_count": 20,
     "metadata": {},
     "output_type": "execute_result"
    }
   ],
   "source": [
    "# не выше 150 см или не ниже 198 см\n",
    "P_lt_150_gt_198 = 100 - P3\n",
    "P_lt_150_gt_198"
   ]
  },
  {
   "cell_type": "code",
   "execution_count": 21,
   "id": "2f111ba1",
   "metadata": {},
   "outputs": [
    {
     "data": {
      "text/plain": [
       "15.850000000000001"
      ]
     },
     "execution_count": 21,
     "metadata": {},
     "output_type": "execute_result"
    }
   ],
   "source": [
    "# ниже 166 см\n",
    "P_lt_166 = (100 - P1) / 2\n",
    "P_lt_166"
   ]
  },
  {
   "cell_type": "markdown",
   "id": "f17e57bd",
   "metadata": {},
   "source": [
    "На сколько сигм (средних квадратичных отклонений) отклоняется рост человека, равный 190 см, от математического ожидания роста в популяции, в которой M(X) = 178 см и D(X) = 25 кв.см?"
   ]
  },
  {
   "cell_type": "code",
   "execution_count": 22,
   "id": "6bfe3290",
   "metadata": {},
   "outputs": [
    {
     "data": {
      "text/plain": [
       "5.0"
      ]
     },
     "execution_count": 22,
     "metadata": {},
     "output_type": "execute_result"
    }
   ],
   "source": [
    "M_x = 178\n",
    "D_x = 25\n",
    "height = 190\n",
    "sigma = np.sqrt(D_x)\n",
    "sigma"
   ]
  },
  {
   "cell_type": "code",
   "execution_count": 23,
   "id": "f8d0e622",
   "metadata": {},
   "outputs": [
    {
     "name": "stdout",
     "output_type": "stream",
     "text": [
      "Ответ: рост человека равный 190см отклоняется на 2.4\n"
     ]
    }
   ],
   "source": [
    "a = (height - M_x) / sigma\n",
    "print(f'Ответ: рост человека равный {height}см отклоняется на {a}')"
   ]
  }
 ],
 "metadata": {
  "kernelspec": {
   "display_name": "Python 3 (ipykernel)",
   "language": "python",
   "name": "python3"
  },
  "language_info": {
   "codemirror_mode": {
    "name": "ipython",
    "version": 3
   },
   "file_extension": ".py",
   "mimetype": "text/x-python",
   "name": "python",
   "nbconvert_exporter": "python",
   "pygments_lexer": "ipython3",
   "version": "3.9.1"
  }
 },
 "nbformat": 4,
 "nbformat_minor": 5
}
