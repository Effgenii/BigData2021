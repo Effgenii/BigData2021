{
 "cells": [
  {
   "cell_type": "code",
   "execution_count": 1,
   "id": "af40f450",
   "metadata": {},
   "outputs": [],
   "source": [
    "import numpy as np\n",
    "import pandas as pd\n",
    "from scipy import stats"
   ]
  },
  {
   "cell_type": "markdown",
   "id": "1137c9ff",
   "metadata": {},
   "source": [
    "1. Даны значения величины заработной платы заемщиков банка (zp) и значения их поведенческого кредитного скоринга (ks):\n",
    "zp = [35, 45, 190, 200, 40, 70, 54, 150, 120, 110],\n",
    "ks = [401, 574, 874, 919, 459, 739, 653, 902, 746, 832].\n",
    "Найдите ковариацию этих двух величин с помощью элементарных действий, а затем с помощью функции cov из numpy\n",
    "Полученные значения должны быть равны.\n",
    "Найдите коэффициент корреляции Пирсона с помощью ковариации и среднеквадратичных отклонений двух признаков,\n",
    "а затем с использованием функций из библиотек numpy и pandas."
   ]
  },
  {
   "cell_type": "code",
   "execution_count": 2,
   "id": "d8ea7deb",
   "metadata": {},
   "outputs": [],
   "source": [
    "zp = np.array([35, 45, 190, 200, 40, 70, 54, 150, 120, 110])\n",
    "ks = np.array([401, 574, 874, 919, 459, 739, 653, 902, 746, 832])"
   ]
  },
  {
   "cell_type": "code",
   "execution_count": 3,
   "id": "3559b35e",
   "metadata": {},
   "outputs": [],
   "source": [
    "def cov(X, Y, ddof=1):\n",
    "    X_mean = X.mean()\n",
    "    Y_mean = Y.mean()\n",
    "    return ((X - X_mean) * (Y - Y_mean)).sum() / (X.shape[0] - ddof)\n",
    "def std(X, ddof=1):\n",
    "    X_mean = X.mean()\n",
    "    return np.sqrt(((X - X_mean)**2).sum() / (X.shape[0] - ddof))\n",
    "\n",
    "def corr(X,Y):\n",
    "    return cov(X, Y) / (std(X) * std(Y))"
   ]
  },
  {
   "cell_type": "code",
   "execution_count": 8,
   "id": "0bc1b64d",
   "metadata": {},
   "outputs": [
    {
     "name": "stdout",
     "output_type": "stream",
     "text": [
      "Ковариация - элементарная: 10175.37777777778, Ковариация - numpy: 10175.377777777776\n",
      "Коэффициент корреляции Пирсона: 0.8874900920739164\n"
     ]
    }
   ],
   "source": [
    "print(f'Ковариация - элементарная: {cov(zp, ks)}, Ковариация - numpy: {np.cov(zp, ks)[0,1]}')\n",
    "print(f'Коэффициент корреляции Пирсона: {corr(zp, ks)}')"
   ]
  },
  {
   "cell_type": "code",
   "execution_count": 10,
   "id": "a7c39450",
   "metadata": {},
   "outputs": [
    {
     "name": "stdout",
     "output_type": "stream",
     "text": [
      "Коэффициент корреляции Пирсона:    0.887490\n"
     ]
    }
   ],
   "source": [
    "d = {'zp': zp, 'ks': ks}\n",
    "df = pd.DataFrame(data = d)\n",
    "df_corr = df.corr()['ks'][0]\n",
    "print(f'Коэффициент корреляции Пирсона: {df_corr:11f}')"
   ]
  },
  {
   "cell_type": "markdown",
   "id": "366315e9",
   "metadata": {},
   "source": [
    "2. Измерены значения IQ выборки студентов,\n",
    "обучающихся в местных технических вузах:\n",
    "131, 125, 115, 122, 131, 115, 107, 99, 125, 111.\n",
    "Известно, что в генеральной совокупности IQ распределен нормально.\n",
    "Найдите доверительный интервал для математического ожидания с надежностью 0.95."
   ]
  },
  {
   "cell_type": "code",
   "execution_count": 11,
   "id": "60eb5182",
   "metadata": {},
   "outputs": [
    {
     "name": "stdout",
     "output_type": "stream",
     "text": [
      "Доверительный интервал: [110.9432125583706, 125.25678744162938]\n"
     ]
    }
   ],
   "source": [
    "iq = np.array([131, 125, 115, 122, 131, 115, 107, 99, 125, 111])\n",
    "X_mean = iq.mean() #среднее\n",
    "n =  iq.shape[0] #размер выборки\n",
    "t = stats.t.ppf(1-0.025,n-1) #Распределение Стьюдента\n",
    "S = std(iq, ddof=0) #среднеквадратичное отклонение\n",
    "P = [X_mean- t * S / np.sqrt(n), X_mean + t * S / np.sqrt(n)]\n",
    "print(f'Доверительный интервал: {P}')"
   ]
  },
  {
   "cell_type": "markdown",
   "id": "52e942ee",
   "metadata": {},
   "source": [
    "3. Известно, что рост футболистов в сборной распределен нормально\n",
    "с дисперсией генеральной совокупности, равной 25 кв.см. Объем выборки равен 27,\n",
    "среднее выборочное составляет 174.2. Найдите доверительный интервал для математического\n",
    "ожидания с надежностью 0.95."
   ]
  },
  {
   "cell_type": "code",
   "execution_count": 12,
   "id": "42a4fa8c",
   "metadata": {},
   "outputs": [
    {
     "name": "stdout",
     "output_type": "stream",
     "text": [
      "Доверительный интервал:[172.27549910270125, 176.12450089729873]\n"
     ]
    }
   ],
   "source": [
    "X_mean = 174.2 #среднее\n",
    "D = 25 # дисперсия\n",
    "n = 27 #размер выборки\n",
    "sigma = np.sqrt(D/n) #  среднеквадратичное отклонение\n",
    "P = [X_mean - 2 * sigma, X_mean + 2 * sigma]\n",
    "print(f'Доверительный интервал:{P}')"
   ]
  },
  {
   "cell_type": "markdown",
   "id": "d8c75286",
   "metadata": {},
   "source": [
    "4. Выберите тему для проектной работы по курсу Теории вероятностей и математической статистики\n",
    "и напишите ее в комментарии к Практическому заданию."
   ]
  },
  {
   "cell_type": "code",
   "execution_count": null,
   "id": "9b934926",
   "metadata": {},
   "outputs": [],
   "source": []
  }
 ],
 "metadata": {
  "kernelspec": {
   "display_name": "Python 3 (ipykernel)",
   "language": "python",
   "name": "python3"
  },
  "language_info": {
   "codemirror_mode": {
    "name": "ipython",
    "version": 3
   },
   "file_extension": ".py",
   "mimetype": "text/x-python",
   "name": "python",
   "nbconvert_exporter": "python",
   "pygments_lexer": "ipython3",
   "version": "3.9.1"
  }
 },
 "nbformat": 4,
 "nbformat_minor": 5
}
