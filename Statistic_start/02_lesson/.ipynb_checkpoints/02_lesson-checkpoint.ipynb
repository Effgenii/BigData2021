{
 "cells": [
  {
   "cell_type": "markdown",
   "id": "b36975ff",
   "metadata": {},
   "source": [
    "Задача 1\n",
    "Контрольная работа состоит из пяти вопросов. На каждый вопрос приведено четыре варианта ответа, один из которых правильный. Составьте закон распределения числа правильных ответов при простом угадывании. Найдите M(X),D(X) ."
   ]
  },
  {
   "cell_type": "code",
   "execution_count": 17,
   "id": "54562bd1",
   "metadata": {},
   "outputs": [],
   "source": [
    "import numpy as np\n",
    "from math import factorial"
   ]
  },
  {
   "cell_type": "code",
   "execution_count": 20,
   "id": "be260128",
   "metadata": {},
   "outputs": [
    {
     "name": "stdout",
     "output_type": "stream",
     "text": [
      "b0=0.2373046875\n",
      "b1=0.3955078125\n",
      "b2=0.263671875\n",
      "b3=0.087890625\n",
      "b4=0.0146484375\n",
      "b5=0.0009765625\n",
      "Сумма вероятностей 1.0\n",
      "Матожидание M(X) 1.25\n",
      "Дисперсия D(X) 0.9375\n"
     ]
    }
   ],
   "source": [
    "n=5 #количество вопросов\n",
    "k=4 #варианты ответов\n",
    "p=0.25 #вероятность правильно угадать один ответ из 4-х\n",
    "q=0 #сумма вероятностей\n",
    "for i in range(n+1):\n",
    "  b=(factorial(n) / (factorial(i) * factorial(n - i)))*(p**i)*((1 - p)**(n-i))\n",
    "  q=q+b\n",
    "  print(f'b{i}={b}')\n",
    "print(f'Сумма вероятностей {q}')\n",
    "print(f'Матожидание M(X) {n*p}')\n",
    "print(f'Дисперсия D(X) {n*p*(1-p)}')"
   ]
  },
  {
   "cell_type": "markdown",
   "id": "e47376ab",
   "metadata": {},
   "source": [
    "Задача 2\n",
    "Вероятность попадания в цель при одном выстреле равна 0.01. Какова вероятность того, что число попаданий при 200 выстрелах будет не менее 5 и не более 10?"
   ]
  },
  {
   "cell_type": "code",
   "execution_count": 19,
   "id": "215357fb",
   "metadata": {},
   "outputs": [],
   "source": [
    "def combinations(n: int, k: int) -> int:\n",
    "    return np.math.factorial(n) // (np.math.factorial(k) * np.math.factorial(n - k))"
   ]
  },
  {
   "cell_type": "code",
   "execution_count": 16,
   "id": "bd5e46c7",
   "metadata": {},
   "outputs": [
    {
     "name": "stdout",
     "output_type": "stream",
     "text": [
      "P(5)  = 0.03572335672160829\n",
      "P(6)  = 0.011727364580325954\n",
      "P(7)  = 0.0032829851783307863\n",
      "P(8)  = 0.0008000203780528306\n",
      "P(9)  = 0.000172394963620812\n",
      "P(10)  = 3.326003843593443e-05\n",
      "0.051739381860374606\n"
     ]
    }
   ],
   "source": [
    "n = 200 # количесвто выстрелов\n",
    "p = 0.01 # вероятность попадания в цель при одном выстреле\n",
    "X = 0 # вероятность попадания в цель накапливающаяся\n",
    "\n",
    "for k in range(5, 11):\n",
    "    b = combinations(n, k) * (p ** k) * (1 - p) ** (n - k)\n",
    "    X = X + b\n",
    "    print(f'P({k})  = {b}')\n",
    "print (X)"
   ]
  },
  {
   "cell_type": "markdown",
   "id": "d4450ecf",
   "metadata": {},
   "source": [
    "Задача 3\n",
    "В условиях предыдущей задачи сколько выстрелов нужно сделать чтобы быть уверенным с вероятностью 0.9, что хотя бы 10 раз будет совершено попадание?\n",
    "Подсказка. Как посчитать P(X >= k) для величины X, имеющей распределение Пуассона? Здесь предстоит немножко покодить."
   ]
  },
  {
   "cell_type": "code",
   "execution_count": 21,
   "id": "c64b68be",
   "metadata": {},
   "outputs": [
    {
     "name": "stdout",
     "output_type": "stream",
     "text": [
      "1538 shots\n"
     ]
    }
   ],
   "source": [
    "# ver_1.0\n",
    "n = 9\n",
    "p = 0.01\n",
    "P = 1\n",
    "while P >= 0.1:\n",
    "    n += 1\n",
    "    P = 0\n",
    "    for k in range(11):\n",
    "        P += combinations(n, k) * (p ** k) * (1 - p) ** (n - k)\n",
    "print(f'{n} shots')"
   ]
  },
  {
   "cell_type": "code",
   "execution_count": 22,
   "id": "57952014",
   "metadata": {},
   "outputs": [
    {
     "name": "stdout",
     "output_type": "stream",
     "text": [
      "1541 shots\n"
     ]
    }
   ],
   "source": [
    "# ver_2.0\n",
    "n = 9\n",
    "p = 0.01\n",
    "P = 1\n",
    "while P >= 0.1:\n",
    "    n += 1\n",
    "    P = 0\n",
    "    lambda_ = n * p\n",
    "    for m in range(11):\n",
    "        P += (lambda_**m / np.math.factorial(m)) * np.exp(-lambda_)\n",
    "print(f'{n} shots')"
   ]
  },
  {
   "cell_type": "code",
   "execution_count": null,
   "id": "74cc4c13",
   "metadata": {},
   "outputs": [],
   "source": []
  }
 ],
 "metadata": {
  "kernelspec": {
   "display_name": "Python 3 (ipykernel)",
   "language": "python",
   "name": "python3"
  },
  "language_info": {
   "codemirror_mode": {
    "name": "ipython",
    "version": 3
   },
   "file_extension": ".py",
   "mimetype": "text/x-python",
   "name": "python",
   "nbconvert_exporter": "python",
   "pygments_lexer": "ipython3",
   "version": "3.9.1"
  }
 },
 "nbformat": 4,
 "nbformat_minor": 5
}
