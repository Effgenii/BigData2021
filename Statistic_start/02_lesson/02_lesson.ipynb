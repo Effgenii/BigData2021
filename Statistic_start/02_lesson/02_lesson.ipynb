{
 "cells": [
  {
   "cell_type": "markdown",
   "id": "b36975ff",
   "metadata": {},
   "source": [
    "Задача 1 и 2\n",
    "Контрольная работа состоит из пяти вопросов. На каждый вопрос приведено четыре варианта ответа, один из которых правильный. Случайная величина X задаёт число правильных ответов при простом угадывании. Найдите математическое ожидание данной случайной величины. Найдите дисперсию случайной величины X. Найдите M(X),D(X) ."
   ]
  },
  {
   "cell_type": "code",
   "execution_count": 2,
   "id": "54562bd1",
   "metadata": {},
   "outputs": [],
   "source": [
    "import numpy as np\n",
    "from math import factorial"
   ]
  },
  {
   "cell_type": "code",
   "execution_count": 3,
   "id": "be260128",
   "metadata": {},
   "outputs": [
    {
     "name": "stdout",
     "output_type": "stream",
     "text": [
      "b0=0.2373046875\n",
      "b1=0.3955078125\n",
      "b2=0.263671875\n",
      "b3=0.087890625\n",
      "b4=0.0146484375\n",
      "b5=0.0009765625\n",
      "Сумма вероятностей 1.0\n",
      "Матожидание M(X) 1.25\n",
      "Дисперсия D(X) 0.9375\n"
     ]
    }
   ],
   "source": [
    "n=5 #количество вопросов\n",
    "k=4 #варианты ответов\n",
    "p=0.25 #вероятность правильно угадать один ответ из 4-х\n",
    "q=0 #сумма вероятностей\n",
    "for i in range(n+1):\n",
    "  b=(factorial(n) / (factorial(i) * factorial(n - i)))*(p**i)*((1 - p)**(n-i))\n",
    "  q=q+b\n",
    "  print(f'b{i}={b}')\n",
    "print(f'Сумма вероятностей {q}')\n",
    "print(f'Матожидание M(X) {n*p}')\n",
    "print(f'Дисперсия D(X) {n*p*(1-p)}')"
   ]
  },
  {
   "cell_type": "markdown",
   "id": "e47376ab",
   "metadata": {},
   "source": [
    "Задача 3\n",
    "Пользователь получает в среднем 10 писем со спамом на свой почтовый ящик за сутки. Найти число N, такое, что с вероятностью 0.95 пользователь получит не более N писем со спамом за текущий день.\n",
    "Используем формулу Пуассона:"
   ]
  },
  {
   "cell_type": "code",
   "execution_count": 12,
   "id": "bd5e46c7",
   "metadata": {},
   "outputs": [],
   "source": [
    "def poisson(k: int, lambda_: float) -> float:\n",
    "    return (lambda_ ** k) * (np.exp(-lambda_)) / np.math.factorial(k)\n",
    "lambda_ = 10"
   ]
  },
  {
   "cell_type": "code",
   "execution_count": 13,
   "id": "a023bde9",
   "metadata": {},
   "outputs": [
    {
     "name": "stdout",
     "output_type": "stream",
     "text": [
      "Пользователь получит не более 15 писем со спамом за текущий день с вероятностью 0.9512595966960214\n"
     ]
    }
   ],
   "source": [
    "p=0\n",
    "n=0\n",
    "while p < 0.95:\n",
    "    p += poisson(n, lambda_=lambda_)\n",
    "    n += 1\n",
    "print('Пользователь получит не более', n-1, 'писем со спамом за текущий день с вероятностью', p)"
   ]
  },
  {
   "cell_type": "markdown",
   "id": "d4450ecf",
   "metadata": {},
   "source": [
    "Задача 4\n",
    "Производятся выстрелы по мишени. Вероятность попадания в мишень при одном выстреле равна 0.01. Сколько выстрелов нужно сделать чтобы быть уверенным с вероятностью 0.9, что хотя бы 6 раз будет совершено попадание?\n",
    "\n",
    "Используем закон Бернули:"
   ]
  },
  {
   "cell_type": "code",
   "execution_count": 11,
   "id": "c64b68be",
   "metadata": {},
   "outputs": [
    {
     "name": "stdout",
     "output_type": "stream",
     "text": [
      "926 выстрелов нужно сделать, чтобы быть уверенным с вероятностью 0.9003627121531355 , что хотя бы 6 раз будет совершено попадание\n"
     ]
    }
   ],
   "source": [
    "result = 0\n",
    "p = 0.01\n",
    "#k = 5\n",
    "n = 6\n",
    "while result < 0.9:\n",
    "    r = 0\n",
    "    for k in range(6):\n",
    "        r += combinations(n,k) * p**k * (1-p)**(n-k)\n",
    "    result = 1 - r\n",
    "    n += 1\n",
    "print(n-1, 'выстрелов нужно сделать, чтобы быть уверенным с вероятностью', result, ', что хотя бы 6 раз будет совершено попадание')"
   ]
  },
  {
   "cell_type": "code",
   "execution_count": null,
   "id": "b1ff90d3",
   "metadata": {},
   "outputs": [],
   "source": []
  }
 ],
 "metadata": {
  "kernelspec": {
   "display_name": "Python 3 (ipykernel)",
   "language": "python",
   "name": "python3"
  },
  "language_info": {
   "codemirror_mode": {
    "name": "ipython",
    "version": 3
   },
   "file_extension": ".py",
   "mimetype": "text/x-python",
   "name": "python",
   "nbconvert_exporter": "python",
   "pygments_lexer": "ipython3",
   "version": "3.9.1"
  }
 },
 "nbformat": 4,
 "nbformat_minor": 5
}
